{
 "cells": [
  {
   "attachments": {},
   "cell_type": "markdown",
   "id": "a9d86f45",
   "metadata": {},
   "source": [
    "# Lending Club Capstone\n",
    "\n",
    "**Objective:** You are a data scientist of a start-up investment firm, which plans to invest in the loans of Lending Club.\n",
    "- Conduct Research and Business Reports to Investigate the potential to invest in Lending Club loans.\n",
    "- Use Machine Learning to select/construct loan portfolios with superb return-risk profiles.\n",
    "- Find ways to scale up the portfolios (called portfolio capacity) preserving performance.\n",
    "\n",
    "**Tasks:**\n",
    "- What defines good loans vs. bad loans?\n",
    "- Predict Default Probability\n",
    "- Use Default Probability to Calculate IRR (Profitability of investments)"
   ]
  },
  {
   "cell_type": "markdown",
   "id": "54f0032c",
   "metadata": {},
   "source": [
    "## 1) How does Lending Club compete with the traditional banks? What are the differences in their business models?\n",
    "- As a lender, why do they get attracted to Lending Club instead of the alternatives in traditional banking\n",
    "industry?\n",
    "- As a borrower, how are the loan terms of Lending Club attractive to them?\n",
    "\n",
    "Lending Club is a peer-to-peer company(P2P) headquartered in San Francisco, California. P2P lending is the practice of lending money to individuals or businessses through online services that match lenders with borrowers. Because their services are online, this allows for these companies to operate at a lower overhead or costs, and thus providing their services more cheaply than traditional financial institutions. This process allows for lenders to earn a higher returns compared to savings and investment products offered by traditional banks, while borrowers can borrow money at lower interest rates.\n",
    "\n",
    "For Lending Club, and most other P2P lending companies, they make money through a origination and service fees. "
   ]
  },
  {
   "cell_type": "markdown",
   "id": "fa715346",
   "metadata": {},
   "source": [
    "## 2) Important Vocabulary\n",
    "\n",
    "**FICO:** \n",
    "The FICO score was first introduced in 1989 by Fair, Isaac, and Company (FICO). The FICO model is used by the vast majority of banks and credit grantors and is based on consumer credit files of the three national credit bureaus: Experian, Equifax, and TransUnion. Therefore, FICO scores can vary depending on which bureau provides the information to FICO to generate the score. The exact formulas are kept secret, however, FICO has discoled the following components: \n",
    "- Payment History\n",
    "- Length of Credit History (\"time in file\")\n",
    "- Types of Credit Used (installement, revolving, consumer finance, and mortgage)\n",
    "- Recent seraches for Credit (when consumer apply for a credit card or a loan). \n",
    "\n",
    "**Installment Credit vs. Revolving Credit:**\n",
    "- **Installment Credit**: Borrowers repay installment credit loans with scheduled, periodic payments. This type of credit involves the gradual reduction of principal and eventual full repayment, ending the credit cycle (Ex: Mortgage).\n",
    "- **Revolving Credit**: Revolving credit allows borrowers to spend the borrowed money, repay it, and spend it again. The lender advances them a set credit limit that can be used all at once or in part (Ex: Credit Card).\n",
    "\n",
    "**Installment and Amortization**:\n",
    "A loan is taken where the principal (money originally borrowed) is paid down over the life of the loan according to an *amortization schedule*, typically throguh equal payments. An **installment** is usually a monthly payment that includes pricipal repayment and interest. **Amortization** is the rate at which the installments are extinguishing the debt/principal. Amortization shorten the average duration of the loan money.\n",
    "   - *Amortization Schedule*: A complete table of periodic loan payments, showing the amount of pricipal and the amount of interest that comprise each payment until the loan is paid off a the end of its term. Each periodic payment is the same amount in total for each period. \n",
    "\n",
    "    \n",
    "**Prepayment Risk:** \n",
    "Risk involved with the premature return of principal on a fixed-income security. This risk is held by the lenders since they wouldn't be collecting as much interest if the borrower prepays their loan. Through Lending Club, borrowers may prepay their loans at any time, in whole or in part, without penalty; Lenders get a percentage of the servicing fee.\n",
    "\n",
    "**In the dataset, a loan is labeled either:**\n",
    "- Fully Paid: Fully paid off loan.\n",
    "- Current: Loan is up to date on all outstanding payments.\n",
    "- Late: Payment was sent after the due date or grace period.\n",
    "- Grace Period: A period of time creditors give borrowers to make their payments before incurring a late charge or risk defaulting on the loan.\n",
    "- Default: Failure to make required interest or principal repayments on a loan.\n",
    "- Charge-off: Lender has written the account off as a loan, and the account is closed to future charges. Having a charge-off can mean serious repercussions on credit history and future borrowing ability.\n",
    "\n",
    "**Loan Default vs. Loand Delinquent:**\n",
    "Delinquency means you are behind on payments. Once you are delinquent for a certain period of time (usually 9 months), your lender will declare the loan to be in default.\n",
    "\n",
    "**Loan Settlement:**\n",
    "Agreement between a lender and borrower wherein the loan is 'settled' by repaying only a part of the loan. This option is only available if the borrower has a genuine reason for being unable to repay such as a serious injury, medical emergencies, loss of a job, etc.\n",
    "\n",
    "**Loan Collection:**\n",
    "Loan collection is the process of purusing payments of debts owed by individuals or businesses. An orginization that specializes in debt collection is known as a collection agency or debt collector.\n",
    "\n",
    "**Types of risks in investing in Lending Club Loans:**\n",
    "- Inflation Risk: Inflation eats into real returns, but it's a risk all investments face. Duration.\n",
    "- Fee Risk: Current management fee is 1%, but could go up or down.\n",
    "- Marketplace Risk: Lending Club could go bankrupt, in which case it may take time to get your loans back.\n",
    "- Callable Risk: Loans can be paid off early.\n",
    "- Liquidity Risk: You can't access your money until the loan is paid in full. You can sell your loan on the secondary market, usually at a discount.\n",
    "- Economic Risk: Could go through another financial crisis, where defaults rise.\n"
   ]
  },
  {
   "cell_type": "markdown",
   "id": "8660b3fe",
   "metadata": {},
   "source": [
    "### Pros and Cons of Lending Club\n",
    "\n",
    "Pros:\n",
    "- Diversification: You don't want to have all your money in one investment and Lending Club makes it easy to diversify your money across multiple notes.\n",
    "- Wide Selection: Easily filter and choose investments by loan type, credit score, purpose of loan, etc\n",
    "- Automated Investing: If you don't have the time or know-how, let Lending Club do the investing for your based on your own parameters\n",
    "- Low minimum per note: Investors can invest as little as 25 dollars in each note.\n",
    "\n",
    "Cons:\n",
    "- Illiquidity: If you want to take money out, you haveto wait until each loan comes due.\n",
    "- Taxed at Ordinary Income\n",
    "- 1% Annual Fee: Lending club charges 1% annually per note you own within the marketplace.\n",
    "- Unsecured Debt: Unlike an auto or home loan, this debt is unsecured. Lending Club cannot collect against an asset if ithe borrower defaults.\n"
   ]
  },
  {
   "cell_type": "markdown",
   "id": "d33de1e1",
   "metadata": {},
   "source": [
    "### Load Packages and Data"
   ]
  },
  {
   "cell_type": "code",
   "execution_count": 1,
   "id": "4dfef03e",
   "metadata": {},
   "outputs": [],
   "source": [
    "import numpy as np \n",
    "import pandas as pd\n",
    "from datetime import datetime, timedelta\n",
    "import matplotlib.pyplot as plt\n",
    "import seaborn as sns\n",
    "\n",
    "from sklearn.model_selection import train_test_split, GridSearchCV, cross_val_score\n",
    "from catboost import CatBoostClassifier, Pool, metrics, cv, CatBoostRegressor\n",
    "from sklearn import metrics\n",
    "\n",
    "%matplotlib inline\n"
   ]
  },
  {
   "cell_type": "code",
   "execution_count": 2,
   "id": "31b3bfe5",
   "metadata": {
    "scrolled": true
   },
   "outputs": [
    {
     "name": "stderr",
     "output_type": "stream",
     "text": [
      "/Users/thomasouyang/opt/anaconda3/lib/python3.9/site-packages/IPython/core/interactiveshell.py:3444: DtypeWarning: Columns (0,19,49,59,118,129,130,131,134,135,136,139,145,146,147) have mixed types.Specify dtype option on import or set low_memory=False.\n",
      "  exec(code_obj, self.user_global_ns, self.user_ns)\n"
     ]
    }
   ],
   "source": [
    "accepted = pd.read_csv(\"data/accepted_2007_to_2018Q4.csv\")"
   ]
  },
  {
   "cell_type": "markdown",
   "id": "bd464508",
   "metadata": {},
   "source": [
    "## 3.1) Exploratory Data Analysis"
   ]
  },
  {
   "cell_type": "code",
   "execution_count": 3,
   "id": "2041cb1d",
   "metadata": {},
   "outputs": [
    {
     "data": {
      "text/plain": [
       "(2260701, 151)"
      ]
     },
     "execution_count": 3,
     "metadata": {},
     "output_type": "execute_result"
    }
   ],
   "source": [
    "accepted.shape"
   ]
  },
  {
   "cell_type": "code",
   "execution_count": 4,
   "id": "8f6531a9",
   "metadata": {},
   "outputs": [
    {
     "data": {
      "text/html": [
       "<div>\n",
       "<style scoped>\n",
       "    .dataframe tbody tr th:only-of-type {\n",
       "        vertical-align: middle;\n",
       "    }\n",
       "\n",
       "    .dataframe tbody tr th {\n",
       "        vertical-align: top;\n",
       "    }\n",
       "\n",
       "    .dataframe thead th {\n",
       "        text-align: right;\n",
       "    }\n",
       "</style>\n",
       "<table border=\"1\" class=\"dataframe\">\n",
       "  <thead>\n",
       "    <tr style=\"text-align: right;\">\n",
       "      <th></th>\n",
       "      <th>id</th>\n",
       "      <th>member_id</th>\n",
       "      <th>loan_amnt</th>\n",
       "      <th>funded_amnt</th>\n",
       "      <th>funded_amnt_inv</th>\n",
       "      <th>term</th>\n",
       "      <th>int_rate</th>\n",
       "      <th>installment</th>\n",
       "      <th>grade</th>\n",
       "      <th>sub_grade</th>\n",
       "      <th>emp_title</th>\n",
       "      <th>emp_length</th>\n",
       "      <th>home_ownership</th>\n",
       "      <th>annual_inc</th>\n",
       "      <th>verification_status</th>\n",
       "      <th>issue_d</th>\n",
       "      <th>loan_status</th>\n",
       "      <th>pymnt_plan</th>\n",
       "      <th>url</th>\n",
       "      <th>desc</th>\n",
       "      <th>purpose</th>\n",
       "      <th>title</th>\n",
       "      <th>zip_code</th>\n",
       "      <th>addr_state</th>\n",
       "      <th>dti</th>\n",
       "      <th>delinq_2yrs</th>\n",
       "      <th>earliest_cr_line</th>\n",
       "      <th>fico_range_low</th>\n",
       "      <th>fico_range_high</th>\n",
       "      <th>inq_last_6mths</th>\n",
       "      <th>mths_since_last_delinq</th>\n",
       "      <th>mths_since_last_record</th>\n",
       "      <th>open_acc</th>\n",
       "      <th>pub_rec</th>\n",
       "      <th>revol_bal</th>\n",
       "      <th>revol_util</th>\n",
       "      <th>total_acc</th>\n",
       "      <th>initial_list_status</th>\n",
       "      <th>out_prncp</th>\n",
       "      <th>out_prncp_inv</th>\n",
       "      <th>total_pymnt</th>\n",
       "      <th>total_pymnt_inv</th>\n",
       "      <th>total_rec_prncp</th>\n",
       "      <th>total_rec_int</th>\n",
       "      <th>total_rec_late_fee</th>\n",
       "      <th>recoveries</th>\n",
       "      <th>collection_recovery_fee</th>\n",
       "      <th>last_pymnt_d</th>\n",
       "      <th>last_pymnt_amnt</th>\n",
       "      <th>next_pymnt_d</th>\n",
       "      <th>last_credit_pull_d</th>\n",
       "      <th>last_fico_range_high</th>\n",
       "      <th>last_fico_range_low</th>\n",
       "      <th>collections_12_mths_ex_med</th>\n",
       "      <th>mths_since_last_major_derog</th>\n",
       "      <th>policy_code</th>\n",
       "      <th>application_type</th>\n",
       "      <th>annual_inc_joint</th>\n",
       "      <th>dti_joint</th>\n",
       "      <th>verification_status_joint</th>\n",
       "      <th>acc_now_delinq</th>\n",
       "      <th>tot_coll_amt</th>\n",
       "      <th>tot_cur_bal</th>\n",
       "      <th>open_acc_6m</th>\n",
       "      <th>open_act_il</th>\n",
       "      <th>open_il_12m</th>\n",
       "      <th>open_il_24m</th>\n",
       "      <th>mths_since_rcnt_il</th>\n",
       "      <th>total_bal_il</th>\n",
       "      <th>il_util</th>\n",
       "      <th>open_rv_12m</th>\n",
       "      <th>open_rv_24m</th>\n",
       "      <th>max_bal_bc</th>\n",
       "      <th>all_util</th>\n",
       "      <th>total_rev_hi_lim</th>\n",
       "      <th>inq_fi</th>\n",
       "      <th>total_cu_tl</th>\n",
       "      <th>inq_last_12m</th>\n",
       "      <th>acc_open_past_24mths</th>\n",
       "      <th>avg_cur_bal</th>\n",
       "      <th>bc_open_to_buy</th>\n",
       "      <th>bc_util</th>\n",
       "      <th>chargeoff_within_12_mths</th>\n",
       "      <th>delinq_amnt</th>\n",
       "      <th>mo_sin_old_il_acct</th>\n",
       "      <th>mo_sin_old_rev_tl_op</th>\n",
       "      <th>mo_sin_rcnt_rev_tl_op</th>\n",
       "      <th>mo_sin_rcnt_tl</th>\n",
       "      <th>mort_acc</th>\n",
       "      <th>mths_since_recent_bc</th>\n",
       "      <th>mths_since_recent_bc_dlq</th>\n",
       "      <th>mths_since_recent_inq</th>\n",
       "      <th>mths_since_recent_revol_delinq</th>\n",
       "      <th>num_accts_ever_120_pd</th>\n",
       "      <th>num_actv_bc_tl</th>\n",
       "      <th>num_actv_rev_tl</th>\n",
       "      <th>num_bc_sats</th>\n",
       "      <th>num_bc_tl</th>\n",
       "      <th>num_il_tl</th>\n",
       "      <th>num_op_rev_tl</th>\n",
       "      <th>num_rev_accts</th>\n",
       "      <th>num_rev_tl_bal_gt_0</th>\n",
       "      <th>num_sats</th>\n",
       "      <th>num_tl_120dpd_2m</th>\n",
       "      <th>num_tl_30dpd</th>\n",
       "      <th>num_tl_90g_dpd_24m</th>\n",
       "      <th>num_tl_op_past_12m</th>\n",
       "      <th>pct_tl_nvr_dlq</th>\n",
       "      <th>percent_bc_gt_75</th>\n",
       "      <th>pub_rec_bankruptcies</th>\n",
       "      <th>tax_liens</th>\n",
       "      <th>tot_hi_cred_lim</th>\n",
       "      <th>total_bal_ex_mort</th>\n",
       "      <th>total_bc_limit</th>\n",
       "      <th>total_il_high_credit_limit</th>\n",
       "      <th>revol_bal_joint</th>\n",
       "      <th>sec_app_fico_range_low</th>\n",
       "      <th>sec_app_fico_range_high</th>\n",
       "      <th>sec_app_earliest_cr_line</th>\n",
       "      <th>sec_app_inq_last_6mths</th>\n",
       "      <th>sec_app_mort_acc</th>\n",
       "      <th>sec_app_open_acc</th>\n",
       "      <th>sec_app_revol_util</th>\n",
       "      <th>sec_app_open_act_il</th>\n",
       "      <th>sec_app_num_rev_accts</th>\n",
       "      <th>sec_app_chargeoff_within_12_mths</th>\n",
       "      <th>sec_app_collections_12_mths_ex_med</th>\n",
       "      <th>sec_app_mths_since_last_major_derog</th>\n",
       "      <th>hardship_flag</th>\n",
       "      <th>hardship_type</th>\n",
       "      <th>hardship_reason</th>\n",
       "      <th>hardship_status</th>\n",
       "      <th>deferral_term</th>\n",
       "      <th>hardship_amount</th>\n",
       "      <th>hardship_start_date</th>\n",
       "      <th>hardship_end_date</th>\n",
       "      <th>payment_plan_start_date</th>\n",
       "      <th>hardship_length</th>\n",
       "      <th>hardship_dpd</th>\n",
       "      <th>hardship_loan_status</th>\n",
       "      <th>orig_projected_additional_accrued_interest</th>\n",
       "      <th>hardship_payoff_balance_amount</th>\n",
       "      <th>hardship_last_payment_amount</th>\n",
       "      <th>disbursement_method</th>\n",
       "      <th>debt_settlement_flag</th>\n",
       "      <th>debt_settlement_flag_date</th>\n",
       "      <th>settlement_status</th>\n",
       "      <th>settlement_date</th>\n",
       "      <th>settlement_amount</th>\n",
       "      <th>settlement_percentage</th>\n",
       "      <th>settlement_term</th>\n",
       "    </tr>\n",
       "  </thead>\n",
       "  <tbody>\n",
       "    <tr>\n",
       "      <th>0</th>\n",
       "      <td>68407277</td>\n",
       "      <td>NaN</td>\n",
       "      <td>3600.00</td>\n",
       "      <td>3600.00</td>\n",
       "      <td>3600.00</td>\n",
       "      <td>36 months</td>\n",
       "      <td>13.99</td>\n",
       "      <td>123.03</td>\n",
       "      <td>C</td>\n",
       "      <td>C4</td>\n",
       "      <td>leadman</td>\n",
       "      <td>10+ years</td>\n",
       "      <td>MORTGAGE</td>\n",
       "      <td>55000.00</td>\n",
       "      <td>Not Verified</td>\n",
       "      <td>Dec-2015</td>\n",
       "      <td>Fully Paid</td>\n",
       "      <td>n</td>\n",
       "      <td>https://lendingclub.com/browse/loanDetail.acti...</td>\n",
       "      <td>NaN</td>\n",
       "      <td>debt_consolidation</td>\n",
       "      <td>Debt consolidation</td>\n",
       "      <td>190xx</td>\n",
       "      <td>PA</td>\n",
       "      <td>5.91</td>\n",
       "      <td>0.00</td>\n",
       "      <td>Aug-2003</td>\n",
       "      <td>675.00</td>\n",
       "      <td>679.00</td>\n",
       "      <td>1.00</td>\n",
       "      <td>30.00</td>\n",
       "      <td>NaN</td>\n",
       "      <td>7.00</td>\n",
       "      <td>0.00</td>\n",
       "      <td>2765.00</td>\n",
       "      <td>29.70</td>\n",
       "      <td>13.00</td>\n",
       "      <td>w</td>\n",
       "      <td>0.00</td>\n",
       "      <td>0.00</td>\n",
       "      <td>4421.72</td>\n",
       "      <td>4421.72</td>\n",
       "      <td>3600.00</td>\n",
       "      <td>821.72</td>\n",
       "      <td>0.00</td>\n",
       "      <td>0.00</td>\n",
       "      <td>0.00</td>\n",
       "      <td>Jan-2019</td>\n",
       "      <td>122.67</td>\n",
       "      <td>NaN</td>\n",
       "      <td>Mar-2019</td>\n",
       "      <td>564.00</td>\n",
       "      <td>560.00</td>\n",
       "      <td>0.00</td>\n",
       "      <td>30.00</td>\n",
       "      <td>1.00</td>\n",
       "      <td>Individual</td>\n",
       "      <td>NaN</td>\n",
       "      <td>NaN</td>\n",
       "      <td>NaN</td>\n",
       "      <td>0.00</td>\n",
       "      <td>722.00</td>\n",
       "      <td>144904.00</td>\n",
       "      <td>2.00</td>\n",
       "      <td>2.00</td>\n",
       "      <td>0.00</td>\n",
       "      <td>1.00</td>\n",
       "      <td>21.00</td>\n",
       "      <td>4981.00</td>\n",
       "      <td>36.00</td>\n",
       "      <td>3.00</td>\n",
       "      <td>3.00</td>\n",
       "      <td>722.00</td>\n",
       "      <td>34.00</td>\n",
       "      <td>9300.00</td>\n",
       "      <td>3.00</td>\n",
       "      <td>1.00</td>\n",
       "      <td>4.00</td>\n",
       "      <td>4.00</td>\n",
       "      <td>20701.00</td>\n",
       "      <td>1506.00</td>\n",
       "      <td>37.20</td>\n",
       "      <td>0.00</td>\n",
       "      <td>0.00</td>\n",
       "      <td>148.00</td>\n",
       "      <td>128.00</td>\n",
       "      <td>3.00</td>\n",
       "      <td>3.00</td>\n",
       "      <td>1.00</td>\n",
       "      <td>4.00</td>\n",
       "      <td>69.00</td>\n",
       "      <td>4.00</td>\n",
       "      <td>69.00</td>\n",
       "      <td>2.00</td>\n",
       "      <td>2.00</td>\n",
       "      <td>4.00</td>\n",
       "      <td>2.00</td>\n",
       "      <td>5.00</td>\n",
       "      <td>3.00</td>\n",
       "      <td>4.00</td>\n",
       "      <td>9.00</td>\n",
       "      <td>4.00</td>\n",
       "      <td>7.00</td>\n",
       "      <td>0.00</td>\n",
       "      <td>0.00</td>\n",
       "      <td>0.00</td>\n",
       "      <td>3.00</td>\n",
       "      <td>76.90</td>\n",
       "      <td>0.00</td>\n",
       "      <td>0.00</td>\n",
       "      <td>0.00</td>\n",
       "      <td>178050.00</td>\n",
       "      <td>7746.00</td>\n",
       "      <td>2400.00</td>\n",
       "      <td>13734.00</td>\n",
       "      <td>NaN</td>\n",
       "      <td>NaN</td>\n",
       "      <td>NaN</td>\n",
       "      <td>NaN</td>\n",
       "      <td>NaN</td>\n",
       "      <td>NaN</td>\n",
       "      <td>NaN</td>\n",
       "      <td>NaN</td>\n",
       "      <td>NaN</td>\n",
       "      <td>NaN</td>\n",
       "      <td>NaN</td>\n",
       "      <td>NaN</td>\n",
       "      <td>NaN</td>\n",
       "      <td>N</td>\n",
       "      <td>NaN</td>\n",
       "      <td>NaN</td>\n",
       "      <td>NaN</td>\n",
       "      <td>NaN</td>\n",
       "      <td>NaN</td>\n",
       "      <td>NaN</td>\n",
       "      <td>NaN</td>\n",
       "      <td>NaN</td>\n",
       "      <td>NaN</td>\n",
       "      <td>NaN</td>\n",
       "      <td>NaN</td>\n",
       "      <td>NaN</td>\n",
       "      <td>NaN</td>\n",
       "      <td>NaN</td>\n",
       "      <td>Cash</td>\n",
       "      <td>N</td>\n",
       "      <td>NaN</td>\n",
       "      <td>NaN</td>\n",
       "      <td>NaN</td>\n",
       "      <td>NaN</td>\n",
       "      <td>NaN</td>\n",
       "      <td>NaN</td>\n",
       "    </tr>\n",
       "  </tbody>\n",
       "</table>\n",
       "</div>"
      ],
      "text/plain": [
       "         id  member_id  loan_amnt  funded_amnt  funded_amnt_inv        term  \\\n",
       "0  68407277        NaN    3600.00      3600.00          3600.00   36 months   \n",
       "\n",
       "   int_rate  installment grade sub_grade emp_title emp_length home_ownership  \\\n",
       "0     13.99       123.03     C        C4   leadman  10+ years       MORTGAGE   \n",
       "\n",
       "   annual_inc verification_status   issue_d loan_status pymnt_plan  \\\n",
       "0    55000.00        Not Verified  Dec-2015  Fully Paid          n   \n",
       "\n",
       "                                                 url desc             purpose  \\\n",
       "0  https://lendingclub.com/browse/loanDetail.acti...  NaN  debt_consolidation   \n",
       "\n",
       "                title zip_code addr_state  dti  delinq_2yrs earliest_cr_line  \\\n",
       "0  Debt consolidation    190xx         PA 5.91         0.00         Aug-2003   \n",
       "\n",
       "   fico_range_low  fico_range_high  inq_last_6mths  mths_since_last_delinq  \\\n",
       "0          675.00           679.00            1.00                   30.00   \n",
       "\n",
       "   mths_since_last_record  open_acc  pub_rec  revol_bal  revol_util  \\\n",
       "0                     NaN      7.00     0.00    2765.00       29.70   \n",
       "\n",
       "   total_acc initial_list_status  out_prncp  out_prncp_inv  total_pymnt  \\\n",
       "0      13.00                   w       0.00           0.00      4421.72   \n",
       "\n",
       "   total_pymnt_inv  total_rec_prncp  total_rec_int  total_rec_late_fee  \\\n",
       "0          4421.72          3600.00         821.72                0.00   \n",
       "\n",
       "   recoveries  collection_recovery_fee last_pymnt_d  last_pymnt_amnt  \\\n",
       "0        0.00                     0.00     Jan-2019           122.67   \n",
       "\n",
       "  next_pymnt_d last_credit_pull_d  last_fico_range_high  last_fico_range_low  \\\n",
       "0          NaN           Mar-2019                564.00               560.00   \n",
       "\n",
       "   collections_12_mths_ex_med  mths_since_last_major_derog  policy_code  \\\n",
       "0                        0.00                        30.00         1.00   \n",
       "\n",
       "  application_type  annual_inc_joint  dti_joint verification_status_joint  \\\n",
       "0       Individual               NaN        NaN                       NaN   \n",
       "\n",
       "   acc_now_delinq  tot_coll_amt  tot_cur_bal  open_acc_6m  open_act_il  \\\n",
       "0            0.00        722.00    144904.00         2.00         2.00   \n",
       "\n",
       "   open_il_12m  open_il_24m  mths_since_rcnt_il  total_bal_il  il_util  \\\n",
       "0         0.00         1.00               21.00       4981.00    36.00   \n",
       "\n",
       "   open_rv_12m  open_rv_24m  max_bal_bc  all_util  total_rev_hi_lim  inq_fi  \\\n",
       "0         3.00         3.00      722.00     34.00           9300.00    3.00   \n",
       "\n",
       "   total_cu_tl  inq_last_12m  acc_open_past_24mths  avg_cur_bal  \\\n",
       "0         1.00          4.00                  4.00     20701.00   \n",
       "\n",
       "   bc_open_to_buy  bc_util  chargeoff_within_12_mths  delinq_amnt  \\\n",
       "0         1506.00    37.20                      0.00         0.00   \n",
       "\n",
       "   mo_sin_old_il_acct  mo_sin_old_rev_tl_op  mo_sin_rcnt_rev_tl_op  \\\n",
       "0              148.00                128.00                   3.00   \n",
       "\n",
       "   mo_sin_rcnt_tl  mort_acc  mths_since_recent_bc  mths_since_recent_bc_dlq  \\\n",
       "0            3.00      1.00                  4.00                     69.00   \n",
       "\n",
       "   mths_since_recent_inq  mths_since_recent_revol_delinq  \\\n",
       "0                   4.00                           69.00   \n",
       "\n",
       "   num_accts_ever_120_pd  num_actv_bc_tl  num_actv_rev_tl  num_bc_sats  \\\n",
       "0                   2.00            2.00             4.00         2.00   \n",
       "\n",
       "   num_bc_tl  num_il_tl  num_op_rev_tl  num_rev_accts  num_rev_tl_bal_gt_0  \\\n",
       "0       5.00       3.00           4.00           9.00                 4.00   \n",
       "\n",
       "   num_sats  num_tl_120dpd_2m  num_tl_30dpd  num_tl_90g_dpd_24m  \\\n",
       "0      7.00              0.00          0.00                0.00   \n",
       "\n",
       "   num_tl_op_past_12m  pct_tl_nvr_dlq  percent_bc_gt_75  pub_rec_bankruptcies  \\\n",
       "0                3.00           76.90              0.00                  0.00   \n",
       "\n",
       "   tax_liens  tot_hi_cred_lim  total_bal_ex_mort  total_bc_limit  \\\n",
       "0       0.00        178050.00            7746.00         2400.00   \n",
       "\n",
       "   total_il_high_credit_limit  revol_bal_joint  sec_app_fico_range_low  \\\n",
       "0                    13734.00              NaN                     NaN   \n",
       "\n",
       "   sec_app_fico_range_high sec_app_earliest_cr_line  sec_app_inq_last_6mths  \\\n",
       "0                      NaN                      NaN                     NaN   \n",
       "\n",
       "   sec_app_mort_acc  sec_app_open_acc  sec_app_revol_util  \\\n",
       "0               NaN               NaN                 NaN   \n",
       "\n",
       "   sec_app_open_act_il  sec_app_num_rev_accts  \\\n",
       "0                  NaN                    NaN   \n",
       "\n",
       "   sec_app_chargeoff_within_12_mths  sec_app_collections_12_mths_ex_med  \\\n",
       "0                               NaN                                 NaN   \n",
       "\n",
       "   sec_app_mths_since_last_major_derog hardship_flag hardship_type  \\\n",
       "0                                  NaN             N           NaN   \n",
       "\n",
       "  hardship_reason hardship_status  deferral_term  hardship_amount  \\\n",
       "0             NaN             NaN            NaN              NaN   \n",
       "\n",
       "  hardship_start_date hardship_end_date payment_plan_start_date  \\\n",
       "0                 NaN               NaN                     NaN   \n",
       "\n",
       "   hardship_length  hardship_dpd hardship_loan_status  \\\n",
       "0              NaN           NaN                  NaN   \n",
       "\n",
       "   orig_projected_additional_accrued_interest  hardship_payoff_balance_amount  \\\n",
       "0                                         NaN                             NaN   \n",
       "\n",
       "   hardship_last_payment_amount disbursement_method debt_settlement_flag  \\\n",
       "0                           NaN                Cash                    N   \n",
       "\n",
       "  debt_settlement_flag_date settlement_status settlement_date  \\\n",
       "0                       NaN               NaN             NaN   \n",
       "\n",
       "   settlement_amount  settlement_percentage  settlement_term  \n",
       "0                NaN                    NaN              NaN  "
      ]
     },
     "execution_count": 4,
     "metadata": {},
     "output_type": "execute_result"
    }
   ],
   "source": [
    "pd.set_option('display.float', '{:.2f}'.format)\n",
    "pd.set_option('display.max_columns', 500)\n",
    "pd.set_option('display.max_rows', 50)\n",
    "accepted.head(1)"
   ]
  },
  {
   "cell_type": "markdown",
   "id": "9bc3f0b7",
   "metadata": {},
   "source": [
    "#### Target Variable: Loan Status\n",
    "\n",
    "Low-risk Loans: Fully Paid\n",
    "\n",
    "High-risk Loans: Charged Off"
   ]
  },
  {
   "cell_type": "code",
   "execution_count": 5,
   "id": "1f435921",
   "metadata": {},
   "outputs": [
    {
     "data": {
      "text/html": [
       "<div>\n",
       "<style scoped>\n",
       "    .dataframe tbody tr th:only-of-type {\n",
       "        vertical-align: middle;\n",
       "    }\n",
       "\n",
       "    .dataframe tbody tr th {\n",
       "        vertical-align: top;\n",
       "    }\n",
       "\n",
       "    .dataframe thead th {\n",
       "        text-align: right;\n",
       "    }\n",
       "</style>\n",
       "<table border=\"1\" class=\"dataframe\">\n",
       "  <thead>\n",
       "    <tr style=\"text-align: right;\">\n",
       "      <th></th>\n",
       "      <th>loan_status</th>\n",
       "      <th>ratio</th>\n",
       "    </tr>\n",
       "    <tr>\n",
       "      <th>loan_status</th>\n",
       "      <th></th>\n",
       "      <th></th>\n",
       "    </tr>\n",
       "  </thead>\n",
       "  <tbody>\n",
       "    <tr>\n",
       "      <th>Fully Paid</th>\n",
       "      <td>1076751</td>\n",
       "      <td>47.63</td>\n",
       "    </tr>\n",
       "    <tr>\n",
       "      <th>Current</th>\n",
       "      <td>878317</td>\n",
       "      <td>38.85</td>\n",
       "    </tr>\n",
       "    <tr>\n",
       "      <th>Charged Off</th>\n",
       "      <td>268559</td>\n",
       "      <td>11.88</td>\n",
       "    </tr>\n",
       "    <tr>\n",
       "      <th>Late (31-120 days)</th>\n",
       "      <td>21467</td>\n",
       "      <td>0.95</td>\n",
       "    </tr>\n",
       "    <tr>\n",
       "      <th>In Grace Period</th>\n",
       "      <td>8436</td>\n",
       "      <td>0.37</td>\n",
       "    </tr>\n",
       "    <tr>\n",
       "      <th>Late (16-30 days)</th>\n",
       "      <td>4349</td>\n",
       "      <td>0.19</td>\n",
       "    </tr>\n",
       "    <tr>\n",
       "      <th>Does not meet the credit policy. Status:Fully Paid</th>\n",
       "      <td>1988</td>\n",
       "      <td>0.09</td>\n",
       "    </tr>\n",
       "    <tr>\n",
       "      <th>Does not meet the credit policy. Status:Charged Off</th>\n",
       "      <td>761</td>\n",
       "      <td>0.03</td>\n",
       "    </tr>\n",
       "    <tr>\n",
       "      <th>Default</th>\n",
       "      <td>40</td>\n",
       "      <td>0.00</td>\n",
       "    </tr>\n",
       "  </tbody>\n",
       "</table>\n",
       "</div>"
      ],
      "text/plain": [
       "                                                    loan_status  ratio\n",
       "loan_status                                                           \n",
       "Fully Paid                                              1076751  47.63\n",
       "Current                                                  878317  38.85\n",
       "Charged Off                                              268559  11.88\n",
       "Late (31-120 days)                                        21467   0.95\n",
       "In Grace Period                                            8436   0.37\n",
       "Late (16-30 days)                                          4349   0.19\n",
       "Does not meet the credit policy. Status:Fully Paid         1988   0.09\n",
       "Does not meet the credit policy. Status:Charged...          761   0.03\n",
       "Default                                                      40   0.00"
      ]
     },
     "execution_count": 5,
     "metadata": {},
     "output_type": "execute_result"
    }
   ],
   "source": [
    "loan_status = accepted.groupby('loan_status')[['loan_status']].count()\n",
    "loan_status['ratio'] = ((loan_status[['loan_status']]/accepted.shape[0])*100).round(2)\n",
    "loan_status.sort_values(by=[\"ratio\"], ascending=False)"
   ]
  },
  {
   "cell_type": "code",
   "execution_count": 6,
   "id": "d94999a6",
   "metadata": {},
   "outputs": [],
   "source": [
    "# Beyond Delinquency\n",
    "# Percentage of non-completed loans\n",
    "\n",
    "high_risk = ['Default', 'Charged Off', 'Does not meet the credit policy. Status:Charged Off']"
   ]
  },
  {
   "cell_type": "code",
   "execution_count": 7,
   "id": "93f11ba8",
   "metadata": {},
   "outputs": [],
   "source": [
    "accepted['loan_completion'] = np.nan\n",
    "\n",
    "def loan_condition(status):\n",
    "    if status in high_risk:\n",
    "        return 'Noncompleted Loan'\n",
    "    else:\n",
    "        return 'Completed Loan'\n",
    "\n",
    "\n",
    "accepted['loan_completion'] = accepted['loan_status'].apply(loan_condition)"
   ]
  },
  {
   "cell_type": "code",
   "execution_count": 8,
   "id": "962e342b",
   "metadata": {},
   "outputs": [
    {
     "data": {
      "text/plain": [
       "Completed Loan      0.88\n",
       "Noncompleted Loan   0.12\n",
       "Name: loan_completion, dtype: float64"
      ]
     },
     "execution_count": 8,
     "metadata": {},
     "output_type": "execute_result"
    }
   ],
   "source": [
    "accepted['loan_completion'].value_counts()/len(accepted['loan_completion'])"
   ]
  },
  {
   "cell_type": "markdown",
   "id": "18b3d998",
   "metadata": {},
   "source": [
    "This shows we are dealing with an imbalanced dataset. Other metrics such as AUC should be used (besides accuracy) to better understand if our model is working. "
   ]
  },
  {
   "cell_type": "code",
   "execution_count": 9,
   "id": "a2a8902e",
   "metadata": {},
   "outputs": [
    {
     "data": {
      "text/plain": [
       "0          Dec-2015\n",
       "1          Dec-2015\n",
       "2          Dec-2015\n",
       "3          Dec-2015\n",
       "4          Dec-2015\n",
       "             ...   \n",
       "2260696    Oct-2016\n",
       "2260697    Oct-2016\n",
       "2260698    Oct-2016\n",
       "2260699         NaN\n",
       "2260700         NaN\n",
       "Name: issue_d, Length: 2260701, dtype: object"
      ]
     },
     "execution_count": 9,
     "metadata": {},
     "output_type": "execute_result"
    }
   ],
   "source": [
    "accepted['issue_d']"
   ]
  },
  {
   "cell_type": "code",
   "execution_count": 10,
   "id": "c4a961aa",
   "metadata": {},
   "outputs": [
    {
     "data": {
      "text/plain": [
       "0         2015.00\n",
       "1         2015.00\n",
       "2         2015.00\n",
       "3         2015.00\n",
       "4         2015.00\n",
       "            ...  \n",
       "2260696   2016.00\n",
       "2260697   2016.00\n",
       "2260698   2016.00\n",
       "2260699       NaN\n",
       "2260700       NaN\n",
       "Name: year, Length: 2260701, dtype: float64"
      ]
     },
     "execution_count": 10,
     "metadata": {},
     "output_type": "execute_result"
    }
   ],
   "source": [
    "accepted['issue_d'] = pd.to_datetime(accepted['issue_d'])\n",
    "accepted['year'] = pd.DatetimeIndex(accepted['issue_d']).year\n",
    "accepted['year']"
   ]
  },
  {
   "cell_type": "code",
   "execution_count": 11,
   "id": "42307fd3",
   "metadata": {},
   "outputs": [
    {
     "data": {
      "text/plain": [
       "Text(0, 0.5, ' ')"
      ]
     },
     "execution_count": 11,
     "metadata": {},
     "output_type": "execute_result"
    },
    {
     "data": {
      "image/png": "[encoded data removed]",
      "text/plain": [
       "<Figure size 432x288 with 1 Axes>"
      ]
     },
     "metadata": {},
     "output_type": "display_data"
    }
   ],
   "source": [
    "f, ax= plt.subplots()\n",
    "\n",
    "colors = ['lightcoral', 'orangered']\n",
    "labels ='Completed Loan', 'Noncompleted Loan'\n",
    "\n",
    "plt.suptitle('Information on Loan Completions', fontsize=20)\n",
    "\n",
    "accepted['loan_completion'].value_counts().plot.pie(explode=[0,0.1], autopct='%1.2f%%', colors=colors, \n",
    "                                             labels=labels, fontsize=12, startangle=70)\n",
    "\n",
    "\n",
    "ax.set_ylabel(' ')\n"
   ]
  },
  {
   "cell_type": "markdown",
   "id": "17d1d3c9",
   "metadata": {},
   "source": [
    "Now that we have an idea of what percentage of loans are completed, there are a few variables that one would intuitively think affects probability of default\n",
    "- Loan Amount \n",
    "- Interest Rate\n",
    "- Loan Term\n",
    "- Credit Score"
   ]
  },
  {
   "cell_type": "markdown",
   "id": "80fc6a6e",
   "metadata": {},
   "source": [
    "#### Values of Loans Issued"
   ]
  },
  {
   "cell_type": "code",
   "execution_count": 12,
   "id": "1fc117de",
   "metadata": {},
   "outputs": [],
   "source": [
    "loans_issued = accepted.groupby('issue_d')['loan_amnt'].sum().reset_index()\n",
    "loans_issued['issue_d'] = pd.DatetimeIndex(loans_issued['issue_d']).year\n",
    "loans_issued = loans_issued.groupby('issue_d').sum().reset_index()\n"
   ]
  },
  {
   "cell_type": "code",
   "execution_count": 13,
   "id": "3e72f26d",
   "metadata": {},
   "outputs": [
    {
     "data": {
      "text/plain": [
       "([<matplotlib.axis.YTick at 0x7fb74ff306a0>,\n",
       "  <matplotlib.axis.YTick at 0x7fb668d8dcd0>,\n",
       "  <matplotlib.axis.YTick at 0x7fb74ff30550>,\n",
       "  <matplotlib.axis.YTick at 0x7fb60b864640>,\n",
       "  <matplotlib.axis.YTick at 0x7fb60b864d90>,\n",
       "  <matplotlib.axis.YTick at 0x7fb60b874520>,\n",
       "  <matplotlib.axis.YTick at 0x7fb60b874c70>,\n",
       "  <matplotlib.axis.YTick at 0x7fb60b874e80>,\n",
       "  <matplotlib.axis.YTick at 0x7fb60b864c40>,\n",
       "  <matplotlib.axis.YTick at 0x7fb60b877640>],\n",
       " [Text(0, 0.0, '0'),\n",
       "  Text(0, 1000000000.0, '1'),\n",
       "  Text(0, 2000000000.0, '2'),\n",
       "  Text(0, 3000000000.0, '3'),\n",
       "  Text(0, 4000000000.0, '4'),\n",
       "  Text(0, 5000000000.0, '5'),\n",
       "  Text(0, 6000000000.0, '6'),\n",
       "  Text(0, 7000000000.0, '7'),\n",
       "  Text(0, 8000000000.0, '8'),\n",
       "  Text(0, 9000000000.0, '9')])"
      ]
     },
     "execution_count": 13,
     "metadata": {},
     "output_type": "execute_result"
    },
    {
     "data": {
      "image/png": "[encoded data removed]",
      "text/plain": [
       "<Figure size 432x288 with 1 Axes>"
      ]
     },
     "metadata": {
      "needs_background": "light"
     },
     "output_type": "display_data"
    }
   ],
   "source": [
    "f, ax = plt.subplots()\n",
    "ax.bar(loans_issued.issue_d, loans_issued.loan_amnt)\n",
    "\n",
    "ax.set_ylabel('Loans in Billions')\n",
    "ax.set_xlabel(\"Year\")\n",
    "ax.set_title(\"Value of Loans Issued\")\n",
    "plt.yticks(ax.get_yticks(), (ax.get_yticks() / 1000000000).astype(int))"
   ]
  },
  {
   "cell_type": "markdown",
   "id": "ea660ebe",
   "metadata": {},
   "source": [
    "#### Credit Grades Over Time"
   ]
  },
  {
   "cell_type": "code",
   "execution_count": 14,
   "id": "a1ec939f",
   "metadata": {},
   "outputs": [
    {
     "data": {
      "text/plain": [
       "(array([ 0,  1,  2,  3,  4,  5,  6,  7,  8,  9, 10, 11]),\n",
       " [Text(0, 0, '2007.0'),\n",
       "  Text(1, 0, '2008.0'),\n",
       "  Text(2, 0, '2009.0'),\n",
       "  Text(3, 0, '2010.0'),\n",
       "  Text(4, 0, '2011.0'),\n",
       "  Text(5, 0, '2012.0'),\n",
       "  Text(6, 0, '2013.0'),\n",
       "  Text(7, 0, '2014.0'),\n",
       "  Text(8, 0, '2015.0'),\n",
       "  Text(9, 0, '2016.0'),\n",
       "  Text(10, 0, '2017.0'),\n",
       "  Text(11, 0, '2018.0')])"
      ]
     },
     "execution_count": 14,
     "metadata": {},
     "output_type": "execute_result"
    },
    {
     "data": {
      "image/png": "[encoded data removed]",
      "text/plain": [
       "<Figure size 720x360 with 1 Axes>"
      ]
     },
     "metadata": {
      "needs_background": "light"
     },
     "output_type": "display_data"
    }
   ],
   "source": [
    "\n",
    "accepted.groupby(['year', 'grade']).size().unstack().plot(kind = 'bar', \n",
    "                                                          stacked = True, \n",
    "                                                          figsize=(10, 5), \n",
    "                                                          cmap = 'tab10')\n",
    "plt.ylabel('Count')\n",
    "plt.xlabel(\"Year\")\n",
    "plt.title(\"Number of Credit Grade(s) Per Year\")\n",
    "plt.xticks(rotation = 0)"
   ]
  },
  {
   "cell_type": "markdown",
   "id": "1d20e35c",
   "metadata": {},
   "source": [
    "#### Loan Purposes based on Credit Grade"
   ]
  },
  {
   "cell_type": "code",
   "execution_count": 15,
   "id": "51d7f689",
   "metadata": {
    "scrolled": true
   },
   "outputs": [
    {
     "data": {
      "text/plain": [
       "(array([0, 1, 2, 3, 4, 5, 6]),\n",
       " [Text(0, 0, 'A'),\n",
       "  Text(1, 0, 'B'),\n",
       "  Text(2, 0, 'C'),\n",
       "  Text(3, 0, 'D'),\n",
       "  Text(4, 0, 'E'),\n",
       "  Text(5, 0, 'F'),\n",
       "  Text(6, 0, 'G')])"
      ]
     },
     "execution_count": 15,
     "metadata": {},
     "output_type": "execute_result"
    },
    {
     "data": {
      "image/png": "[encoded data removed]",
      "text/plain": [
       "<Figure size 720x360 with 1 Axes>"
      ]
     },
     "metadata": {
      "needs_background": "light"
     },
     "output_type": "display_data"
    }
   ],
   "source": [
    "\n",
    "accepted.groupby(['grade', 'purpose']).size().unstack().plot(kind = 'bar', stacked = True, figsize=(10, 5), cmap = 'tab10')\n",
    "plt.legend(loc='center left', bbox_to_anchor=(1.0, 0.5))\n",
    "plt.title('Number of Loans per Purpose per Credit Grade')\n",
    "plt.ylabel('Count')\n",
    "plt.xticks(rotation = 0)\n",
    "\n"
   ]
  },
  {
   "cell_type": "markdown",
   "id": "b0b21852",
   "metadata": {},
   "source": [
    "#### Credit Score\n",
    "\n",
    "Majority of Borrowers have a Credit Score of B or C"
   ]
  },
  {
   "cell_type": "code",
   "execution_count": 16,
   "id": "9ffbe1e4",
   "metadata": {},
   "outputs": [
    {
     "data": {
      "text/plain": [
       "B    663557\n",
       "C    650053\n",
       "A    433027\n",
       "D    324424\n",
       "E    135639\n",
       "F     41800\n",
       "G     12168\n",
       "Name: grade, dtype: int64"
      ]
     },
     "execution_count": 16,
     "metadata": {},
     "output_type": "execute_result"
    }
   ],
   "source": [
    "accepted['grade'].value_counts()"
   ]
  },
  {
   "cell_type": "code",
   "execution_count": 17,
   "id": "2d7fac78",
   "metadata": {},
   "outputs": [
    {
     "data": {
      "image/png": "[encoded data removed]",
      "text/plain": [
       "<Figure size 432x288 with 1 Axes>"
      ]
     },
     "metadata": {
      "needs_background": "light"
     },
     "output_type": "display_data"
    }
   ],
   "source": [
    "f, ax = plt.subplots()\n",
    "\n",
    "accepted.groupby(['grade']).size().plot(kind ='bar')\n",
    "\n",
    "ax.set_ylabel('Number of Loans (in Thousands)', size = 12)\n",
    "ax.set_xlabel('Credit Grade', size = 12)\n",
    "ax.set_title('Number of Loans per Credit Grade')\n",
    "\n",
    "plt.yticks(ax.get_yticks(), (ax.get_yticks() / 1000).astype(int))\n",
    "\n",
    "\n",
    "ax.tick_params(axis='x', labelrotation = 0)"
   ]
  },
  {
   "cell_type": "markdown",
   "id": "ea63fa33",
   "metadata": {},
   "source": [
    "#### Interest Rates\n",
    "\n",
    "Inverse Relationship as expected"
   ]
  },
  {
   "cell_type": "code",
   "execution_count": 18,
   "id": "8e4af6e6",
   "metadata": {
    "scrolled": true
   },
   "outputs": [
    {
     "data": {
      "text/plain": [
       "Text(0.5, 1.0, 'Average Interest Rates per Credit Grade')"
      ]
     },
     "execution_count": 18,
     "metadata": {},
     "output_type": "execute_result"
    },
    {
     "data": {
      "image/png": "[encoded data removed]",
      "text/plain": [
       "<Figure size 432x288 with 1 Axes>"
      ]
     },
     "metadata": {
      "needs_background": "light"
     },
     "output_type": "display_data"
    }
   ],
   "source": [
    "f, ax = plt.subplots()\n",
    "\n",
    "sns.barplot(x=\"grade\", y='int_rate', data=accepted, dodge = False, order =['A','B','C','D','E','F', 'G']) \n",
    "ax.set_ylabel('Interest Rates in Percent', size = 12)\n",
    "ax.set_xlabel('Credit Grade', size = 12)\n",
    "ax.set_title('Average Interest Rates per Credit Grade')\n"
   ]
  },
  {
   "cell_type": "markdown",
   "id": "f76301c9",
   "metadata": {},
   "source": [
    "#### Loan Terms per Credit Grade"
   ]
  },
  {
   "cell_type": "code",
   "execution_count": 19,
   "id": "f50cb523",
   "metadata": {
    "scrolled": true
   },
   "outputs": [
    {
     "data": {
      "text/plain": [
       "grade  term      \n",
       "A       36 months    409181\n",
       "        60 months     23846\n",
       "B       36 months    534906\n",
       "        60 months    128651\n",
       "C       36 months    419858\n",
       "        60 months    230195\n",
       "D       36 months    184199\n",
       "        60 months    140225\n",
       "E       36 months     50791\n",
       "        60 months     84848\n",
       "F       36 months      8717\n",
       "        60 months     33083\n",
       "G       36 months      2102\n",
       "        60 months     10066\n",
       "Name: loan_status, dtype: int64"
      ]
     },
     "execution_count": 19,
     "metadata": {},
     "output_type": "execute_result"
    }
   ],
   "source": [
    "accepted.groupby(['grade','term'])['loan_status'].size()"
   ]
  },
  {
   "cell_type": "markdown",
   "id": "be259c30",
   "metadata": {},
   "source": [
    "## 3.2) Feature Selection\n",
    "\n",
    "Since we are tackling this project from the prospective of an investor, the probability of the loans is crucial for our success. Since this is a predictive task, we can only use information available at the time loan initialization.\n",
    "\n",
    "- id, loan_amnt, term, int_rate, grade, sub_grade, emp_title, emp_length, home_ownership, annual_inc, verification_status, loan_status (target), purpose, zip_code, addr_state, dti, earliest_cr_line, fico_range_low, fico_range_high, open_acc, pub_rec, initial_list_status, application_type, annual_inc_joint, dti_joint, verification_status_joint, pub_rec_bankruptcies\n",
    "\n",
    "Column index: 0, 2, 5, 6, 8, 9, 10, 11, 12, 13, 14, 16, 20, 22, 23, 24, 26, 27, 28, 32, 33, 37, 56, 57, 58, 59, 109"
   ]
  },
  {
   "cell_type": "code",
   "execution_count": 20,
   "id": "36882f7a",
   "metadata": {
    "scrolled": false
   },
   "outputs": [
    {
     "name": "stdout",
     "output_type": "stream",
     "text": [
      "0 id\n",
      "1 member_id\n",
      "2 loan_amnt\n",
      "3 funded_amnt\n",
      "4 funded_amnt_inv\n",
      "5 term\n",
      "6 int_rate\n",
      "7 installment\n",
      "8 grade\n",
      "9 sub_grade\n",
      "10 emp_title\n",
      "11 emp_length\n",
      "12 home_ownership\n",
      "13 annual_inc\n",
      "14 verification_status\n",
      "15 issue_d\n",
      "16 loan_status\n",
      "17 pymnt_plan\n",
      "18 url\n",
      "19 desc\n",
      "20 purpose\n",
      "21 title\n",
      "22 zip_code\n",
      "23 addr_state\n",
      "24 dti\n",
      "25 delinq_2yrs\n",
      "26 earliest_cr_line\n",
      "27 fico_range_low\n",
      "28 fico_range_high\n",
      "29 inq_last_6mths\n",
      "30 mths_since_last_delinq\n",
      "31 mths_since_last_record\n",
      "32 open_acc\n",
      "33 pub_rec\n",
      "34 revol_bal\n",
      "35 revol_util\n",
      "36 total_acc\n",
      "37 initial_list_status\n",
      "38 out_prncp\n",
      "39 out_prncp_inv\n",
      "40 total_pymnt\n",
      "41 total_pymnt_inv\n",
      "42 total_rec_prncp\n",
      "43 total_rec_int\n",
      "44 total_rec_late_fee\n",
      "45 recoveries\n",
      "46 collection_recovery_fee\n",
      "47 last_pymnt_d\n",
      "48 last_pymnt_amnt\n",
      "49 next_pymnt_d\n",
      "50 last_credit_pull_d\n",
      "51 last_fico_range_high\n",
      "52 last_fico_range_low\n",
      "53 collections_12_mths_ex_med\n",
      "54 mths_since_last_major_derog\n",
      "55 policy_code\n",
      "56 application_type\n",
      "57 annual_inc_joint\n",
      "58 dti_joint\n",
      "59 verification_status_joint\n",
      "60 acc_now_delinq\n",
      "61 tot_coll_amt\n",
      "62 tot_cur_bal\n",
      "63 open_acc_6m\n",
      "64 open_act_il\n",
      "65 open_il_12m\n",
      "66 open_il_24m\n",
      "67 mths_since_rcnt_il\n",
      "68 total_bal_il\n",
      "69 il_util\n",
      "70 open_rv_12m\n",
      "71 open_rv_24m\n",
      "72 max_bal_bc\n",
      "73 all_util\n",
      "74 total_rev_hi_lim\n",
      "75 inq_fi\n",
      "76 total_cu_tl\n",
      "77 inq_last_12m\n",
      "78 acc_open_past_24mths\n",
      "79 avg_cur_bal\n",
      "80 bc_open_to_buy\n",
      "81 bc_util\n",
      "82 chargeoff_within_12_mths\n",
      "83 delinq_amnt\n",
      "84 mo_sin_old_il_acct\n",
      "85 mo_sin_old_rev_tl_op\n",
      "86 mo_sin_rcnt_rev_tl_op\n",
      "87 mo_sin_rcnt_tl\n",
      "88 mort_acc\n",
      "89 mths_since_recent_bc\n",
      "90 mths_since_recent_bc_dlq\n",
      "91 mths_since_recent_inq\n",
      "92 mths_since_recent_revol_delinq\n",
      "93 num_accts_ever_120_pd\n",
      "94 num_actv_bc_tl\n",
      "95 num_actv_rev_tl\n",
      "96 num_bc_sats\n",
      "97 num_bc_tl\n",
      "98 num_il_tl\n",
      "99 num_op_rev_tl\n",
      "100 num_rev_accts\n",
      "101 num_rev_tl_bal_gt_0\n",
      "102 num_sats\n",
      "103 num_tl_120dpd_2m\n",
      "104 num_tl_30dpd\n",
      "105 num_tl_90g_dpd_24m\n",
      "106 num_tl_op_past_12m\n",
      "107 pct_tl_nvr_dlq\n",
      "108 percent_bc_gt_75\n",
      "109 pub_rec_bankruptcies\n",
      "110 tax_liens\n",
      "111 tot_hi_cred_lim\n",
      "112 total_bal_ex_mort\n",
      "113 total_bc_limit\n",
      "114 total_il_high_credit_limit\n",
      "115 revol_bal_joint\n",
      "116 sec_app_fico_range_low\n",
      "117 sec_app_fico_range_high\n",
      "118 sec_app_earliest_cr_line\n",
      "119 sec_app_inq_last_6mths\n",
      "120 sec_app_mort_acc\n",
      "121 sec_app_open_acc\n",
      "122 sec_app_revol_util\n",
      "123 sec_app_open_act_il\n",
      "124 sec_app_num_rev_accts\n",
      "125 sec_app_chargeoff_within_12_mths\n",
      "126 sec_app_collections_12_mths_ex_med\n",
      "127 sec_app_mths_since_last_major_derog\n",
      "128 hardship_flag\n",
      "129 hardship_type\n",
      "130 hardship_reason\n",
      "131 hardship_status\n",
      "132 deferral_term\n",
      "133 hardship_amount\n",
      "134 hardship_start_date\n",
      "135 hardship_end_date\n",
      "136 payment_plan_start_date\n",
      "137 hardship_length\n",
      "138 hardship_dpd\n",
      "139 hardship_loan_status\n",
      "140 orig_projected_additional_accrued_interest\n",
      "141 hardship_payoff_balance_amount\n",
      "142 hardship_last_payment_amount\n",
      "143 disbursement_method\n",
      "144 debt_settlement_flag\n",
      "145 debt_settlement_flag_date\n",
      "146 settlement_status\n",
      "147 settlement_date\n",
      "148 settlement_amount\n",
      "149 settlement_percentage\n",
      "150 settlement_term\n",
      "151 loan_completion\n",
      "152 year\n"
     ]
    }
   ],
   "source": [
    "for e, column in enumerate(accepted.columns):\n",
    "    print (e, column)"
   ]
  },
  {
   "cell_type": "code",
   "execution_count": 21,
   "id": "9f822124",
   "metadata": {},
   "outputs": [],
   "source": [
    "df = accepted.iloc[:,[2,5,6,8,9,\n",
    "                  \n",
    "                  11,12,13,14,16,20,22,23,24,26,27,28,32,33,37,56,57,58,59,109]]"
   ]
  },
  {
   "cell_type": "markdown",
   "id": "52f7dcd4",
   "metadata": {},
   "source": [
    "Furthermore, we only want to look at loans that are \"Fully Paid\" or \"Charged Off/Defaulted\""
   ]
  },
  {
   "cell_type": "code",
   "execution_count": 22,
   "id": "81dfce48",
   "metadata": {},
   "outputs": [],
   "source": [
    "df = df[df['loan_status'].isin(['Fully Paid', 'Charged Off', 'Default'])]"
   ]
  },
  {
   "cell_type": "code",
   "execution_count": 23,
   "id": "1db5b451",
   "metadata": {
    "scrolled": true
   },
   "outputs": [
    {
     "data": {
      "text/plain": [
       "Fully Paid     1076751\n",
       "Charged Off     268559\n",
       "Default             40\n",
       "Name: loan_status, dtype: int64"
      ]
     },
     "execution_count": 23,
     "metadata": {},
     "output_type": "execute_result"
    }
   ],
   "source": [
    "df['loan_status'].value_counts()"
   ]
  },
  {
   "cell_type": "markdown",
   "id": "f57534ba",
   "metadata": {},
   "source": [
    "Since Default is so small, we can probably just take a look at Charged Off."
   ]
  },
  {
   "cell_type": "code",
   "execution_count": 24,
   "id": "62774630",
   "metadata": {},
   "outputs": [],
   "source": [
    "df = df[df['loan_status'].isin(['Fully Paid', 'Charged Off'])]"
   ]
  },
  {
   "cell_type": "markdown",
   "id": "4c3f7408",
   "metadata": {},
   "source": [
    "XGBoost doesn't handle non-numeric target variables, so we will change it such that Fully Paid is represented by 0 and Charged Off is represented by 1."
   ]
  },
  {
   "cell_type": "code",
   "execution_count": 25,
   "id": "6c4950ff",
   "metadata": {},
   "outputs": [],
   "source": [
    "df['loan_status'] = df['loan_status'].apply(lambda x: 1 if x=='Charged Off' else 0)"
   ]
  },
  {
   "cell_type": "markdown",
   "id": "689df325",
   "metadata": {},
   "source": [
    "## 3.3) Missing Values"
   ]
  },
  {
   "cell_type": "code",
   "execution_count": 26,
   "id": "c6ca148f",
   "metadata": {},
   "outputs": [
    {
     "data": {
      "text/plain": [
       "verification_status_joint    1319715\n",
       "dti_joint                    1319513\n",
       "annual_inc_joint             1319510\n",
       "emp_length                     78511\n",
       "pub_rec_bankruptcies             697\n",
       "dti                              374\n",
       "zip_code                           1\n",
       "earliest_cr_line                   0\n",
       "application_type                   0\n",
       "initial_list_status                0\n",
       "pub_rec                            0\n",
       "open_acc                           0\n",
       "fico_range_high                    0\n",
       "fico_range_low                     0\n",
       "loan_amnt                          0\n",
       "term                               0\n",
       "purpose                            0\n",
       "loan_status                        0\n",
       "verification_status                0\n",
       "annual_inc                         0\n",
       "home_ownership                     0\n",
       "sub_grade                          0\n",
       "grade                              0\n",
       "int_rate                           0\n",
       "addr_state                         0\n",
       "dtype: int64"
      ]
     },
     "execution_count": 26,
     "metadata": {},
     "output_type": "execute_result"
    }
   ],
   "source": [
    "df.isnull().sum().sort_values(ascending = False)"
   ]
  },
  {
   "cell_type": "markdown",
   "id": "827cf9eb",
   "metadata": {},
   "source": [
    "Lots of missing data invovle \"joint\" status. This could just be because not all loan applicants do so with another person. Since the plan is to use XGBoost, which can handle missing errors, the last thing we have to do is label-encode our categorical features."
   ]
  },
  {
   "cell_type": "markdown",
   "id": "a94ec888",
   "metadata": {},
   "source": [
    "## 4) Create and Train Model to Predict Loan Defaults\n",
    "\n",
    "\n",
    "Now after taking a look at the missing data, I have moved on immediately to creating a model. Why? Certain models, specifically the ones I'm looking at, can handle missing data quite well. In this case, I decided to look at XGBoost vs. [CatBoost](https://catboost.ai/en/docs/). These are two of the most optimized boosting techniques for Gradient-Boosted Tree algorithms. Alongside the fact that there is pre-assumption of logistic regression, we don't need to worry about how our predictor variables interact with each other nor the target variable. \n",
    "\n",
    "I decided to go with CatBoost since it is designed for categorical data and is known to have the best performance on it -- better than XGBoost. Even though some of CatBoost's internal identification of categorical data slows its training time significantly in comparison to XGBoost, it is still reported much faster than XGBoost. Furthermore, there is not much pre-processing (CatBoost supports working with non-numeric factors, of which XGBoost does not).\n",
    "\n",
    "The presence of the missing values is interpreted as errors, and the missing values will be allocated to the side that reduces the loss in each split.\n"
   ]
  },
  {
   "cell_type": "code",
   "execution_count": 27,
   "id": "09ce2a3a",
   "metadata": {},
   "outputs": [
    {
     "data": {
      "text/plain": [
       "(134531, 25)"
      ]
     },
     "execution_count": 27,
     "metadata": {},
     "output_type": "execute_result"
    }
   ],
   "source": [
    "# Sample of Dataset to try debug model\n",
    "sample = df.sample(frac=0.1, random_state=1)\n",
    "sample.shape"
   ]
  },
  {
   "cell_type": "code",
   "execution_count": 28,
   "id": "8ce9cb53",
   "metadata": {},
   "outputs": [],
   "source": [
    "X = sample.drop('loan_status', axis = 1)\n",
    "y = sample['loan_status']"
   ]
  },
  {
   "cell_type": "code",
   "execution_count": 29,
   "id": "2d315e40",
   "metadata": {},
   "outputs": [],
   "source": [
    "for column in X.columns:\n",
    "    if (X[column].dtypes != float):\n",
    "        X[column] = X[column].astype(str)"
   ]
  },
  {
   "cell_type": "code",
   "execution_count": 30,
   "id": "8ebfd91c",
   "metadata": {},
   "outputs": [],
   "source": [
    "# Find categorical features \n",
    "catCols = list(X.select_dtypes(include='object').columns)\n",
    "# print(catCols)"
   ]
  },
  {
   "cell_type": "code",
   "execution_count": 31,
   "id": "3d3e79d7",
   "metadata": {},
   "outputs": [],
   "source": [
    "# Label-Encoding Categorical Features\n",
    "\n",
    "from sklearn.preprocessing import LabelEncoder\n",
    "\n",
    "label_encoder = LabelEncoder()\n",
    "\n",
    "for feature in catCols:\n",
    "    X[feature] = label_encoder.fit_transform(X[feature])"
   ]
  },
  {
   "cell_type": "code",
   "execution_count": 32,
   "id": "c0e76249",
   "metadata": {},
   "outputs": [],
   "source": [
    "# Split the data into Train and Test\n",
    "\n",
    "X_train, X_test, y_train, y_test = train_test_split(X, y, train_size=0.70, random_state=0)\n"
   ]
  },
  {
   "cell_type": "markdown",
   "id": "7beb8dea",
   "metadata": {},
   "source": [
    "#### XGBoost Classifier\n",
    "\n",
    "ROC AUC (Area Under the Receiver Operating Characteristic Curve) score is a metric used to assess the performance of classification machine learning models. The ROC is a graph which maps the relationship between true positive rate (TPR) and the false positive rate (FPR), showing the TPR that we can expect to receive for a given trade-off with FPR. The ROC AUC score is the area under this ROC curve, meaning that the resulting score represents in broad terms the model's ability to predict classes correctly.\n",
    "\n",
    "Since our dataset is imbalanced, we can compute sample weights using compute_sample_weight() to help model performance.\n",
    "\n"
   ]
  },
  {
   "cell_type": "code",
   "execution_count": 33,
   "id": "66630e45",
   "metadata": {},
   "outputs": [],
   "source": [
    "from xgboost import XGBClassifier\n",
    "\n",
    "from sklearn.utils.class_weight import compute_sample_weight\n",
    "\n",
    "def get_XGBmodel(X, Y):\n",
    "\n",
    "    gs_XGBM = XGBClassifier()\n",
    "    \n",
    "    sample_weights = compute_sample_weight(\n",
    "    class_weight='balanced', y = Y)\n",
    "    \n",
    "    para_grid_XGBM ={\n",
    "    'n_estimators': [100],\n",
    "    'max_depth': np.linspace(start = 6, stop = 13, num = 8, dtype = int),\n",
    "    'reg_alpha': np.linspace(start = 0.2, stop = 0.5, num = 4, dtype = float),\n",
    "    'reg_lambda': np.linspace(start = 0.3, stop = 0.6, num = 4, dtype = float)\n",
    "}\n",
    "    \n",
    "    gs = GridSearchCV(gs_XGBM,\n",
    "                      para_grid_XGBM,\n",
    "                      scoring='roc_auc', \n",
    "                      cv = 2,\n",
    "                      n_jobs=-1)\n",
    "    \n",
    "    gs.fit(X,Y, sample_weight=sample_weights)\n",
    "    \n",
    "    model = gs.best_estimator_\n",
    "    \n",
    "    print('XGBM object created.')\n",
    "    print(gs.best_estimator_)\n",
    "    \n",
    "    return model"
   ]
  },
  {
   "cell_type": "code",
   "execution_count": 34,
   "id": "2e2ad78e",
   "metadata": {},
   "outputs": [
    {
     "name": "stdout",
     "output_type": "stream",
     "text": [
      "XGBM object created.\n",
      "XGBClassifier(base_score=0.5, booster='gbtree', callbacks=None,\n",
      "              colsample_bylevel=1, colsample_bynode=1, colsample_bytree=1,\n",
      "              early_stopping_rounds=None, enable_categorical=False,\n",
      "              eval_metric=None, gamma=0, gpu_id=-1, grow_policy='depthwise',\n",
      "              importance_type=None, interaction_constraints='',\n",
      "              learning_rate=0.300000012, max_bin=256, max_cat_to_onehot=4,\n",
      "              max_delta_step=0, max_depth=6, max_leaves=0, min_child_weight=1,\n",
      "              missing=nan, monotone_constraints='()', n_estimators=100,\n",
      "              n_jobs=0, num_parallel_tree=1, predictor='auto', random_state=0,\n",
      "              reg_alpha=0.2, reg_lambda=0.6, ...)\n",
      "CPU times: user 31.5 s, sys: 5.51 s, total: 37 s\n",
      "Wall time: 10min 29s\n"
     ]
    }
   ],
   "source": [
    "%time xgb_model = get_XGBmodel(X_train, y_train)"
   ]
  },
  {
   "cell_type": "code",
   "execution_count": 35,
   "id": "29578514",
   "metadata": {},
   "outputs": [
    {
     "name": "stdout",
     "output_type": "stream",
     "text": [
      "The best ROC AUC score is:\n",
      "0.7034\n"
     ]
    }
   ],
   "source": [
    "prob = xgb_model.predict_proba(X_test)\n",
    "print(\"The best ROC AUC score is:\")\n",
    "print(round(metrics.roc_auc_score(y_test, prob[:, 1]),4))"
   ]
  },
  {
   "cell_type": "markdown",
   "id": "46715b34",
   "metadata": {},
   "source": [
    "#### Feature Importance\n",
    "\n",
    "Most important features in relation to model success. The F-score is how many times the feature was split on."
   ]
  },
  {
   "cell_type": "code",
   "execution_count": 36,
   "id": "b843b3e9",
   "metadata": {},
   "outputs": [
    {
     "data": {
      "image/png": "[encoded data removed]",
      "text/plain": [
       "<Figure size 864x864 with 1 Axes>"
      ]
     },
     "metadata": {
      "needs_background": "light"
     },
     "output_type": "display_data"
    }
   ],
   "source": [
    "from xgboost import plot_importance\n",
    "\n",
    "fig, ax = plt.subplots(figsize=(12,12))\n",
    "plot_importance(xgb_model, ax = ax)\n",
    "plt.show()"
   ]
  },
  {
   "cell_type": "code",
   "execution_count": 37,
   "id": "5299ecec",
   "metadata": {},
   "outputs": [
    {
     "data": {
      "image/png": "[encoded data removed]",
      "text/plain": [
       "<Figure size 432x432 with 1 Axes>"
      ]
     },
     "metadata": {
      "needs_background": "light"
     },
     "output_type": "display_data"
    }
   ],
   "source": [
    "fig, ax = plt.subplots(figsize=(6, 6))\n",
    "metrics.plot_roc_curve(xgb_model, X_test, y_test, ax=ax)\n",
    "ax.plot([0, 1], [0, 1], linestyle='--', lw=2, color='r',\n",
    "        label='Chance', alpha=.8)\n",
    "ax.set_title('ROC Curve on the Test Set')\n",
    "ax.legend(loc='lower right')\n",
    "plt.show()"
   ]
  },
  {
   "cell_type": "code",
   "execution_count": 38,
   "id": "45930bb4",
   "metadata": {},
   "outputs": [],
   "source": [
    "y_predict = xgb_model.predict(X_test)"
   ]
  },
  {
   "cell_type": "code",
   "execution_count": 39,
   "id": "7556a834",
   "metadata": {},
   "outputs": [
    {
     "name": "stdout",
     "output_type": "stream",
     "text": [
      "[[21881 10481]\n",
      " [ 3037  4961]]\n"
     ]
    }
   ],
   "source": [
    "from sklearn.metrics import confusion_matrix,classification_report\n",
    "\n",
    "print(metrics.confusion_matrix(y_test, y_predict))\n"
   ]
  },
  {
   "cell_type": "code",
   "execution_count": 40,
   "id": "f1121680",
   "metadata": {},
   "outputs": [
    {
     "name": "stdout",
     "output_type": "stream",
     "text": [
      "              precision    recall  f1-score   support\n",
      "\n",
      "           0       0.88      0.68      0.76     32362\n",
      "           1       0.32      0.62      0.42      7998\n",
      "\n",
      "    accuracy                           0.67     40360\n",
      "   macro avg       0.60      0.65      0.59     40360\n",
      "weighted avg       0.77      0.67      0.70     40360\n",
      "\n"
     ]
    }
   ],
   "source": [
    "print(metrics.classification_report(y_test, y_predict))\n"
   ]
  },
  {
   "cell_type": "code",
   "execution_count": 41,
   "id": "9c9c0ebe",
   "metadata": {},
   "outputs": [
    {
     "data": {
      "image/png": "[encoded data removed]",
      "text/plain": [
       "<Figure size 288x288 with 1 Axes>"
      ]
     },
     "metadata": {
      "needs_background": "light"
     },
     "output_type": "display_data"
    }
   ],
   "source": [
    "fig, ax = plt.subplots(figsize=(4, 4))\n",
    "metrics.plot_confusion_matrix(xgb_model, X_test, y_test,\n",
    "                             cmap='hot',colorbar=False, ax=ax)  \n",
    "plt.show()"
   ]
  },
  {
   "cell_type": "markdown",
   "id": "33dda395",
   "metadata": {},
   "source": [
    "# Calculating Cashflows for each Loan"
   ]
  },
  {
   "cell_type": "markdown",
   "id": "2346b28e",
   "metadata": {},
   "source": [
    "We can calculate the spread between the interest rate and predicted probability of default (per loan). The higher the spread, the more profitable the loan (adjusted by risk). "
   ]
  },
  {
   "cell_type": "code",
   "execution_count": 45,
   "id": "30aa4cb9",
   "metadata": {},
   "outputs": [
    {
     "name": "stdout",
     "output_type": "stream",
     "text": [
      "Number of observations predicted on test set: 40360\n"
     ]
    }
   ],
   "source": [
    "prob_FP = prob[:,0] # Probability Fully Paid Off\n",
    "prob_CO = prob[:,1] # Probability Charged Off/Defaulted\n",
    "print('Number of observations predicted on test set:',len(prob))\n",
    "\n"
   ]
  },
  {
   "cell_type": "markdown",
   "id": "4c3d9843",
   "metadata": {},
   "source": [
    "Here, we are essentially adding our probabilities back into the original dataset. To calculate our probability of default, we used features that were available at loan origination. Calculating the IRR (internal rate of return) is forward looking, so we will need to include the features we previously removed."
   ]
  },
  {
   "cell_type": "code",
   "execution_count": 47,
   "id": "5531089e",
   "metadata": {},
   "outputs": [],
   "source": [
    "orig_cols = accepted.columns.difference(X_test.columns, sort=False)"
   ]
  },
  {
   "cell_type": "code",
   "execution_count": 48,
   "id": "33292c6e",
   "metadata": {},
   "outputs": [],
   "source": [
    "cf_df = pd.merge(X_test, accepted[orig_cols], how='left', left_index=True, right_index=True)"
   ]
  },
  {
   "cell_type": "code",
   "execution_count": 50,
   "id": "129e3d17",
   "metadata": {},
   "outputs": [],
   "source": [
    "cf_df['proba_FP'] = prob_FP.tolist()\n",
    "cf_df['proba_CO'] = prob_CO.tolist()"
   ]
  },
  {
   "cell_type": "code",
   "execution_count": 51,
   "id": "a4344093",
   "metadata": {},
   "outputs": [],
   "source": [
    "cf_df['issue_d'] = pd.to_datetime(cf_df['issue_d'])\n",
    "cf_df['last_pymnt_d'] = pd.to_datetime(cf_df['last_pymnt_d'])"
   ]
  },
  {
   "cell_type": "code",
   "execution_count": 52,
   "id": "c0cf6b5d",
   "metadata": {},
   "outputs": [
    {
     "name": "stdout",
     "output_type": "stream",
     "text": [
      "65\n",
      "0\n"
     ]
    }
   ],
   "source": [
    "print(cf_df.last_pymnt_d.isnull().sum())\n",
    "print(cf_df.issue_d.isnull().sum())"
   ]
  },
  {
   "cell_type": "code",
   "execution_count": 55,
   "id": "e2b78d7c",
   "metadata": {},
   "outputs": [
    {
     "name": "stdout",
     "output_type": "stream",
     "text": [
      "loan_status\n",
      "Charged Off    65\n",
      "dtype: int64\n",
      "0.16105\n"
     ]
    }
   ],
   "source": [
    "\n",
    "print(cf_df[cf_df['last_pymnt_d'].isnull()].groupby('loan_status').size())\n",
    "\n",
    "value = float((cf_df[cf_df['last_pymnt_d'].isnull()].groupby('loan_status').size()/cf_df.shape[0])*100)\n",
    "\n",
    "print(\"{0:.5f}\".format(value))"
   ]
  },
  {
   "cell_type": "markdown",
   "id": "6749179a",
   "metadata": {},
   "source": [
    "We can see that all the missing last payments are for Charged Off. In total, this only represents 0.16% of all loans, so we can just remove them."
   ]
  },
  {
   "cell_type": "code",
   "execution_count": 56,
   "id": "aeb1e692",
   "metadata": {},
   "outputs": [],
   "source": [
    "cf_df = cf_df[cf_df['last_pymnt_d'].notna()]"
   ]
  },
  {
   "cell_type": "markdown",
   "id": "7e51f41d",
   "metadata": {},
   "source": [
    "Adding Cashflow"
   ]
  },
  {
   "cell_type": "code",
   "execution_count": 59,
   "id": "0c7249e9",
   "metadata": {},
   "outputs": [],
   "source": [
    "# Number of months between issuance and last payment\n",
    "\n",
    "cf_df['nb_months'] = ((cf_df.last_pymnt_d - cf_df.issue_d)/np.timedelta64(1, 'M'))\n",
    "cf_df['nb_months'] = cf_df['nb_months'].astype(int)"
   ]
  },
  {
   "cell_type": "markdown",
   "id": "556459b7",
   "metadata": {},
   "source": [
    "Adding columns for every month and year and placing the loan amount as a negative cashflow on the issue date month."
   ]
  },
  {
   "cell_type": "code",
   "execution_count": 60,
   "id": "dfef45a9",
   "metadata": {},
   "outputs": [],
   "source": [
    "months = [\"%.2d\" % i for i in range(1,13)]\n",
    "years = [\"%d\" % i for i in range(2007,2019)]\n",
    "\n",
    "for year in years:\n",
    "    for month in months:\n",
    "        cf_df[month+\"-\"+year] = np.where(cf_df.issue_d.dt.strftime('%m-%Y') == month+\"-\"+year,\n",
    "                              -cf_df['loan_amnt'], 0) "
   ]
  },
  {
   "cell_type": "markdown",
   "id": "a1fc0aee",
   "metadata": {},
   "source": [
    "Filling months with installments and last payment month with remaining difference between sum of all installments and the full total amount paid."
   ]
  },
  {
   "cell_type": "code",
   "execution_count": 61,
   "id": "84c1c207",
   "metadata": {},
   "outputs": [],
   "source": [
    "for index in cf_df.index:\n",
    "    months_list = pd.date_range(cf_df.loc[index, 'issue_d'], cf_df.loc[index, 'last_pymnt_d'],\n",
    "                                freq='MS', closed='right').strftime(\"%m-%Y\").tolist()\n",
    "    if cf_df.loc[index, 'nb_months'] == 0:\n",
    "        cf_df.loc[index, cf_df.loc[index, 'issue_d'].strftime(\"%m-%Y\")] = \\\n",
    "        (-cf_df.loc[index, 'loan_amnt']+cf_df.loc[index, 'total_pymnt'])\n",
    "        \n",
    "    else:\n",
    "        for month in months_list[0:-1]:\n",
    "            cf_df.loc[index, month] = cf_df.loc[index, 'installment']\n",
    "        cf_df.loc[index, months_list[-1]] = (cf_df.loc[index, 'total_pymnt']-\n",
    "                                             (cf_df.loc[index, 'installment']*len(months_list[0:-1])))"
   ]
  },
  {
   "cell_type": "code",
   "execution_count": 62,
   "id": "8e5f9fbc",
   "metadata": {},
   "outputs": [],
   "source": [
    "values = {'01-2019': 0, '02-2019': 0, '03-2019': 0}\n",
    "\n",
    "cf_df.fillna(value=values, inplace=True)"
   ]
  },
  {
   "cell_type": "code",
   "execution_count": 80,
   "id": "0db54fca",
   "metadata": {},
   "outputs": [
    {
     "data": {
      "text/html": [
       "<div>\n",
       "<style scoped>\n",
       "    .dataframe tbody tr th:only-of-type {\n",
       "        vertical-align: middle;\n",
       "    }\n",
       "\n",
       "    .dataframe tbody tr th {\n",
       "        vertical-align: top;\n",
       "    }\n",
       "\n",
       "    .dataframe thead th {\n",
       "        text-align: right;\n",
       "    }\n",
       "</style>\n",
       "<table border=\"1\" class=\"dataframe\">\n",
       "  <thead>\n",
       "    <tr style=\"text-align: right;\">\n",
       "      <th></th>\n",
       "      <th>index</th>\n",
       "      <th>0</th>\n",
       "    </tr>\n",
       "  </thead>\n",
       "  <tbody>\n",
       "    <tr>\n",
       "      <th>0</th>\n",
       "      <td>01-2007</td>\n",
       "      <td>0.00</td>\n",
       "    </tr>\n",
       "    <tr>\n",
       "      <th>1</th>\n",
       "      <td>02-2007</td>\n",
       "      <td>0.00</td>\n",
       "    </tr>\n",
       "    <tr>\n",
       "      <th>2</th>\n",
       "      <td>03-2007</td>\n",
       "      <td>0.00</td>\n",
       "    </tr>\n",
       "    <tr>\n",
       "      <th>3</th>\n",
       "      <td>04-2007</td>\n",
       "      <td>0.00</td>\n",
       "    </tr>\n",
       "    <tr>\n",
       "      <th>4</th>\n",
       "      <td>05-2007</td>\n",
       "      <td>0.00</td>\n",
       "    </tr>\n",
       "    <tr>\n",
       "      <th>...</th>\n",
       "      <td>...</td>\n",
       "      <td>...</td>\n",
       "    </tr>\n",
       "    <tr>\n",
       "      <th>143</th>\n",
       "      <td>12-2018</td>\n",
       "      <td>4749299.06</td>\n",
       "    </tr>\n",
       "    <tr>\n",
       "      <th>144</th>\n",
       "      <td>nb_months</td>\n",
       "      <td>825137.00</td>\n",
       "    </tr>\n",
       "    <tr>\n",
       "      <th>145</th>\n",
       "      <td>01-2019</td>\n",
       "      <td>5798659.32</td>\n",
       "    </tr>\n",
       "    <tr>\n",
       "      <th>146</th>\n",
       "      <td>02-2019</td>\n",
       "      <td>6057575.23</td>\n",
       "    </tr>\n",
       "    <tr>\n",
       "      <th>147</th>\n",
       "      <td>03-2019</td>\n",
       "      <td>2118012.94</td>\n",
       "    </tr>\n",
       "  </tbody>\n",
       "</table>\n",
       "<p>148 rows × 2 columns</p>\n",
       "</div>"
      ],
      "text/plain": [
       "         index          0\n",
       "0      01-2007       0.00\n",
       "1      02-2007       0.00\n",
       "2      03-2007       0.00\n",
       "3      04-2007       0.00\n",
       "4      05-2007       0.00\n",
       "..         ...        ...\n",
       "143    12-2018 4749299.06\n",
       "144  nb_months  825137.00\n",
       "145    01-2019 5798659.32\n",
       "146    02-2019 6057575.23\n",
       "147    03-2019 2118012.94\n",
       "\n",
       "[148 rows x 2 columns]"
      ]
     },
     "execution_count": 80,
     "metadata": {},
     "output_type": "execute_result"
    }
   ],
   "source": [
    "cf2 = cf_df.loc[:,'01-2007':'03-2019'].apply(np.sum).reset_index()\n",
    "cf2"
   ]
  },
  {
   "cell_type": "code",
   "execution_count": 82,
   "id": "11e9a4a6",
   "metadata": {},
   "outputs": [
    {
     "data": {
      "text/html": [
       "<div>\n",
       "<style scoped>\n",
       "    .dataframe tbody tr th:only-of-type {\n",
       "        vertical-align: middle;\n",
       "    }\n",
       "\n",
       "    .dataframe tbody tr th {\n",
       "        vertical-align: top;\n",
       "    }\n",
       "\n",
       "    .dataframe thead th {\n",
       "        text-align: right;\n",
       "    }\n",
       "</style>\n",
       "<table border=\"1\" class=\"dataframe\">\n",
       "  <thead>\n",
       "    <tr style=\"text-align: right;\">\n",
       "      <th></th>\n",
       "      <th>Date</th>\n",
       "      <th>Cashflow</th>\n",
       "    </tr>\n",
       "  </thead>\n",
       "  <tbody>\n",
       "    <tr>\n",
       "      <th>0</th>\n",
       "      <td>01-2007</td>\n",
       "      <td>0.00</td>\n",
       "    </tr>\n",
       "    <tr>\n",
       "      <th>1</th>\n",
       "      <td>02-2007</td>\n",
       "      <td>0.00</td>\n",
       "    </tr>\n",
       "    <tr>\n",
       "      <th>2</th>\n",
       "      <td>03-2007</td>\n",
       "      <td>0.00</td>\n",
       "    </tr>\n",
       "    <tr>\n",
       "      <th>3</th>\n",
       "      <td>04-2007</td>\n",
       "      <td>0.00</td>\n",
       "    </tr>\n",
       "    <tr>\n",
       "      <th>4</th>\n",
       "      <td>05-2007</td>\n",
       "      <td>0.00</td>\n",
       "    </tr>\n",
       "    <tr>\n",
       "      <th>...</th>\n",
       "      <td>...</td>\n",
       "      <td>...</td>\n",
       "    </tr>\n",
       "    <tr>\n",
       "      <th>143</th>\n",
       "      <td>12-2018</td>\n",
       "      <td>4749299.06</td>\n",
       "    </tr>\n",
       "    <tr>\n",
       "      <th>144</th>\n",
       "      <td>nb_months</td>\n",
       "      <td>825137.00</td>\n",
       "    </tr>\n",
       "    <tr>\n",
       "      <th>145</th>\n",
       "      <td>01-2019</td>\n",
       "      <td>5798659.32</td>\n",
       "    </tr>\n",
       "    <tr>\n",
       "      <th>146</th>\n",
       "      <td>02-2019</td>\n",
       "      <td>6057575.23</td>\n",
       "    </tr>\n",
       "    <tr>\n",
       "      <th>147</th>\n",
       "      <td>03-2019</td>\n",
       "      <td>2118012.94</td>\n",
       "    </tr>\n",
       "  </tbody>\n",
       "</table>\n",
       "<p>148 rows × 2 columns</p>\n",
       "</div>"
      ],
      "text/plain": [
       "          Date   Cashflow\n",
       "0      01-2007       0.00\n",
       "1      02-2007       0.00\n",
       "2      03-2007       0.00\n",
       "3      04-2007       0.00\n",
       "4      05-2007       0.00\n",
       "..         ...        ...\n",
       "143    12-2018 4749299.06\n",
       "144  nb_months  825137.00\n",
       "145    01-2019 5798659.32\n",
       "146    02-2019 6057575.23\n",
       "147    03-2019 2118012.94\n",
       "\n",
       "[148 rows x 2 columns]"
      ]
     },
     "execution_count": 82,
     "metadata": {},
     "output_type": "execute_result"
    }
   ],
   "source": [
    "cf2.columns = ['Date', 'Cashflow']\n",
    "cf2"
   ]
  },
  {
   "cell_type": "markdown",
   "id": "6ae61614",
   "metadata": {},
   "source": [
    "# Internal Rate of Return"
   ]
  },
  {
   "cell_type": "code",
   "execution_count": 83,
   "id": "6ecfb829",
   "metadata": {},
   "outputs": [
    {
     "ename": "KeyError",
     "evalue": "'CF'",
     "output_type": "error",
     "traceback": [
      "\u001b[0;31m---------------------------------------------------------------------------\u001b[0m",
      "\u001b[0;31mKeyError\u001b[0m                                  Traceback (most recent call last)",
      "\u001b[0;32m~/opt/anaconda3/lib/python3.9/site-packages/pandas/core/indexes/base.py\u001b[0m in \u001b[0;36mget_loc\u001b[0;34m(self, key, method, tolerance)\u001b[0m\n\u001b[1;32m   3360\u001b[0m             \u001b[0;32mtry\u001b[0m\u001b[0;34m:\u001b[0m\u001b[0;34m\u001b[0m\u001b[0;34m\u001b[0m\u001b[0m\n\u001b[0;32m-> 3361\u001b[0;31m                 \u001b[0;32mreturn\u001b[0m \u001b[0mself\u001b[0m\u001b[0;34m.\u001b[0m\u001b[0m_engine\u001b[0m\u001b[0;34m.\u001b[0m\u001b[0mget_loc\u001b[0m\u001b[0;34m(\u001b[0m\u001b[0mcasted_key\u001b[0m\u001b[0;34m)\u001b[0m\u001b[0;34m\u001b[0m\u001b[0;34m\u001b[0m\u001b[0m\n\u001b[0m\u001b[1;32m   3362\u001b[0m             \u001b[0;32mexcept\u001b[0m \u001b[0mKeyError\u001b[0m \u001b[0;32mas\u001b[0m \u001b[0merr\u001b[0m\u001b[0;34m:\u001b[0m\u001b[0;34m\u001b[0m\u001b[0;34m\u001b[0m\u001b[0m\n",
      "\u001b[0;32m~/opt/anaconda3/lib/python3.9/site-packages/pandas/_libs/index.pyx\u001b[0m in \u001b[0;36mpandas._libs.index.IndexEngine.get_loc\u001b[0;34m()\u001b[0m\n",
      "\u001b[0;32m~/opt/anaconda3/lib/python3.9/site-packages/pandas/_libs/index.pyx\u001b[0m in \u001b[0;36mpandas._libs.index.IndexEngine.get_loc\u001b[0;34m()\u001b[0m\n",
      "\u001b[0;32mpandas/_libs/hashtable_class_helper.pxi\u001b[0m in \u001b[0;36mpandas._libs.hashtable.PyObjectHashTable.get_item\u001b[0;34m()\u001b[0m\n",
      "\u001b[0;32mpandas/_libs/hashtable_class_helper.pxi\u001b[0m in \u001b[0;36mpandas._libs.hashtable.PyObjectHashTable.get_item\u001b[0;34m()\u001b[0m\n",
      "\u001b[0;31mKeyError\u001b[0m: 'CF'",
      "\nThe above exception was the direct cause of the following exception:\n",
      "\u001b[0;31mKeyError\u001b[0m                                  Traceback (most recent call last)",
      "\u001b[0;32m/var/folders/sj/x46s482s0zs_2rd0g1_25m5r0000gn/T/ipykernel_78250/2895920438.py\u001b[0m in \u001b[0;36m<module>\u001b[0;34m\u001b[0m\n\u001b[1;32m     10\u001b[0m     \u001b[0;32mreturn\u001b[0m\u001b[0;34m(\u001b[0m\u001b[0;34m\"{:.2f}%\"\u001b[0m\u001b[0;34m.\u001b[0m\u001b[0mformat\u001b[0m\u001b[0;34m(\u001b[0m\u001b[0mirr1\u001b[0m\u001b[0;34m*\u001b[0m\u001b[0;36m100\u001b[0m\u001b[0;34m)\u001b[0m\u001b[0;34m)\u001b[0m\u001b[0;34m\u001b[0m\u001b[0;34m\u001b[0m\u001b[0m\n\u001b[1;32m     11\u001b[0m \u001b[0;34m\u001b[0m\u001b[0m\n\u001b[0;32m---> 12\u001b[0;31m \u001b[0mcalculate_irr\u001b[0m\u001b[0;34m(\u001b[0m\u001b[0mcf_df\u001b[0m\u001b[0;34m)\u001b[0m\u001b[0;34m\u001b[0m\u001b[0;34m\u001b[0m\u001b[0m\n\u001b[0m",
      "\u001b[0;32m/var/folders/sj/x46s482s0zs_2rd0g1_25m5r0000gn/T/ipykernel_78250/2895920438.py\u001b[0m in \u001b[0;36mcalculate_irr\u001b[0;34m(data_frame)\u001b[0m\n\u001b[1;32m      4\u001b[0m     \u001b[0mcf2\u001b[0m \u001b[0;34m=\u001b[0m \u001b[0mdata_frame\u001b[0m\u001b[0;34m.\u001b[0m\u001b[0mloc\u001b[0m\u001b[0;34m[\u001b[0m\u001b[0;34m:\u001b[0m\u001b[0;34m,\u001b[0m\u001b[0;34m'01-2007'\u001b[0m\u001b[0;34m:\u001b[0m\u001b[0;34m'03-2019'\u001b[0m\u001b[0;34m]\u001b[0m\u001b[0;34m.\u001b[0m\u001b[0mapply\u001b[0m\u001b[0;34m(\u001b[0m\u001b[0mnp\u001b[0m\u001b[0;34m.\u001b[0m\u001b[0msum\u001b[0m\u001b[0;34m)\u001b[0m\u001b[0;34m.\u001b[0m\u001b[0mreset_index\u001b[0m\u001b[0;34m(\u001b[0m\u001b[0;34m)\u001b[0m\u001b[0;34m\u001b[0m\u001b[0;34m\u001b[0m\u001b[0m\n\u001b[1;32m      5\u001b[0m     \u001b[0mcf2\u001b[0m\u001b[0;34m.\u001b[0m\u001b[0mcolumns\u001b[0m \u001b[0;34m=\u001b[0m \u001b[0;34m[\u001b[0m\u001b[0;34m'Date'\u001b[0m\u001b[0;34m,\u001b[0m \u001b[0;34m'CF'\u001b[0m\u001b[0;34m]\u001b[0m\u001b[0;34m\u001b[0m\u001b[0;34m\u001b[0m\u001b[0m\n\u001b[0;32m----> 6\u001b[0;31m     \u001b[0mirr1\u001b[0m \u001b[0;34m=\u001b[0m \u001b[0mnpf\u001b[0m\u001b[0;34m.\u001b[0m\u001b[0mirr\u001b[0m\u001b[0;34m(\u001b[0m\u001b[0mcf_df\u001b[0m\u001b[0;34m[\u001b[0m\u001b[0;34m\"CF\"\u001b[0m\u001b[0;34m]\u001b[0m\u001b[0;34m)\u001b[0m\u001b[0;34m\u001b[0m\u001b[0;34m\u001b[0m\u001b[0m\n\u001b[0m\u001b[1;32m      7\u001b[0m \u001b[0;34m\u001b[0m\u001b[0m\n\u001b[1;32m      8\u001b[0m     \u001b[0;31m#Converting to annual IRR\u001b[0m\u001b[0;34m\u001b[0m\u001b[0;34m\u001b[0m\u001b[0m\n",
      "\u001b[0;32m~/opt/anaconda3/lib/python3.9/site-packages/pandas/core/frame.py\u001b[0m in \u001b[0;36m__getitem__\u001b[0;34m(self, key)\u001b[0m\n\u001b[1;32m   3456\u001b[0m             \u001b[0;32mif\u001b[0m \u001b[0mself\u001b[0m\u001b[0;34m.\u001b[0m\u001b[0mcolumns\u001b[0m\u001b[0;34m.\u001b[0m\u001b[0mnlevels\u001b[0m \u001b[0;34m>\u001b[0m \u001b[0;36m1\u001b[0m\u001b[0;34m:\u001b[0m\u001b[0;34m\u001b[0m\u001b[0;34m\u001b[0m\u001b[0m\n\u001b[1;32m   3457\u001b[0m                 \u001b[0;32mreturn\u001b[0m \u001b[0mself\u001b[0m\u001b[0;34m.\u001b[0m\u001b[0m_getitem_multilevel\u001b[0m\u001b[0;34m(\u001b[0m\u001b[0mkey\u001b[0m\u001b[0;34m)\u001b[0m\u001b[0;34m\u001b[0m\u001b[0;34m\u001b[0m\u001b[0m\n\u001b[0;32m-> 3458\u001b[0;31m             \u001b[0mindexer\u001b[0m \u001b[0;34m=\u001b[0m \u001b[0mself\u001b[0m\u001b[0;34m.\u001b[0m\u001b[0mcolumns\u001b[0m\u001b[0;34m.\u001b[0m\u001b[0mget_loc\u001b[0m\u001b[0;34m(\u001b[0m\u001b[0mkey\u001b[0m\u001b[0;34m)\u001b[0m\u001b[0;34m\u001b[0m\u001b[0;34m\u001b[0m\u001b[0m\n\u001b[0m\u001b[1;32m   3459\u001b[0m             \u001b[0;32mif\u001b[0m \u001b[0mis_integer\u001b[0m\u001b[0;34m(\u001b[0m\u001b[0mindexer\u001b[0m\u001b[0;34m)\u001b[0m\u001b[0;34m:\u001b[0m\u001b[0;34m\u001b[0m\u001b[0;34m\u001b[0m\u001b[0m\n\u001b[1;32m   3460\u001b[0m                 \u001b[0mindexer\u001b[0m \u001b[0;34m=\u001b[0m \u001b[0;34m[\u001b[0m\u001b[0mindexer\u001b[0m\u001b[0;34m]\u001b[0m\u001b[0;34m\u001b[0m\u001b[0;34m\u001b[0m\u001b[0m\n",
      "\u001b[0;32m~/opt/anaconda3/lib/python3.9/site-packages/pandas/core/indexes/base.py\u001b[0m in \u001b[0;36mget_loc\u001b[0;34m(self, key, method, tolerance)\u001b[0m\n\u001b[1;32m   3361\u001b[0m                 \u001b[0;32mreturn\u001b[0m \u001b[0mself\u001b[0m\u001b[0;34m.\u001b[0m\u001b[0m_engine\u001b[0m\u001b[0;34m.\u001b[0m\u001b[0mget_loc\u001b[0m\u001b[0;34m(\u001b[0m\u001b[0mcasted_key\u001b[0m\u001b[0;34m)\u001b[0m\u001b[0;34m\u001b[0m\u001b[0;34m\u001b[0m\u001b[0m\n\u001b[1;32m   3362\u001b[0m             \u001b[0;32mexcept\u001b[0m \u001b[0mKeyError\u001b[0m \u001b[0;32mas\u001b[0m \u001b[0merr\u001b[0m\u001b[0;34m:\u001b[0m\u001b[0;34m\u001b[0m\u001b[0;34m\u001b[0m\u001b[0m\n\u001b[0;32m-> 3363\u001b[0;31m                 \u001b[0;32mraise\u001b[0m \u001b[0mKeyError\u001b[0m\u001b[0;34m(\u001b[0m\u001b[0mkey\u001b[0m\u001b[0;34m)\u001b[0m \u001b[0;32mfrom\u001b[0m \u001b[0merr\u001b[0m\u001b[0;34m\u001b[0m\u001b[0;34m\u001b[0m\u001b[0m\n\u001b[0m\u001b[1;32m   3364\u001b[0m \u001b[0;34m\u001b[0m\u001b[0m\n\u001b[1;32m   3365\u001b[0m         \u001b[0;32mif\u001b[0m \u001b[0mis_scalar\u001b[0m\u001b[0;34m(\u001b[0m\u001b[0mkey\u001b[0m\u001b[0;34m)\u001b[0m \u001b[0;32mand\u001b[0m \u001b[0misna\u001b[0m\u001b[0;34m(\u001b[0m\u001b[0mkey\u001b[0m\u001b[0;34m)\u001b[0m \u001b[0;32mand\u001b[0m \u001b[0;32mnot\u001b[0m \u001b[0mself\u001b[0m\u001b[0;34m.\u001b[0m\u001b[0mhasnans\u001b[0m\u001b[0;34m:\u001b[0m\u001b[0;34m\u001b[0m\u001b[0;34m\u001b[0m\u001b[0m\n",
      "\u001b[0;31mKeyError\u001b[0m: 'CF'"
     ]
    }
   ],
   "source": [
    "import numpy_financial as npf\n",
    "\n",
    "def calculate_irr(data_frame):\n",
    "    cf2 = data_frame.loc[:,'01-2007':'03-2019'].apply(np.sum).reset_index()\n",
    "    cf2.columns = ['Date', 'CF']\n",
    "    irr1 = npf.irr(cf_df[\"CF\"])\n",
    "    \n",
    "    #Converting to annual IRR\n",
    "    irr1 = ((irr1+1)**12)-1\n",
    "    return(\"{:.2f}%\".format(irr1*100))\n",
    "    \n",
    "calculate_irr(cf_df)"
   ]
  },
  {
   "cell_type": "code",
   "execution_count": null,
   "id": "9e59290c",
   "metadata": {},
   "outputs": [],
   "source": []
  },
  {
   "cell_type": "code",
   "execution_count": null,
   "id": "71293a2e",
   "metadata": {},
   "outputs": [],
   "source": []
  },
  {
   "cell_type": "code",
   "execution_count": null,
   "id": "3beae15b",
   "metadata": {},
   "outputs": [],
   "source": []
  },
  {
   "cell_type": "code",
   "execution_count": null,
   "id": "0200a706",
   "metadata": {},
   "outputs": [],
   "source": []
  },
  {
   "cell_type": "markdown",
   "id": "4c5a1cee",
   "metadata": {},
   "source": []
  }
 ],
 "metadata": {
  "kernelspec": {
   "display_name": "Python 3 (ipykernel)",
   "language": "python",
   "name": "python3"
  },
  "language_info": {
   "codemirror_mode": {
    "name": "ipython",
    "version": 3
   },
   "file_extension": ".py",
   "mimetype": "text/x-python",
   "name": "python",
   "nbconvert_exporter": "python",
   "pygments_lexer": "ipython3",
   "version": "3.9.7"
  }
 },
 "nbformat": 4,
 "nbformat_minor": 5
}
