{
 "cells": [
  {
   "attachments": {},
   "cell_type": "markdown",
   "id": "d5d82562",
   "metadata": {},
   "source": [
    "# Lending Club Capstone\n",
    "\n",
    "**Objective:** You are a data scientist of a start-up investment firm, which plans to invest in the loans of Lending Club.\n",
    "- Conduct Research and Business Reports to Investigate the potential to invest in Lending Club loans.\n",
    "- Use Machine Learning to select/construct loan portfolios with superb return-risk profiles.\n",
    "- Find ways to scale up the portfolios (called portfolio capacity) preserving performance.\n",
    "\n",
    "**Tasks:**\n",
    "- What defines good loans vs. bad loans?\n",
    "- Predict Default Probability\n",
    "- Use Default Probability to Calculate IRR (Profitability of investments)"
   ]
  },
  {
   "cell_type": "markdown",
   "id": "201e2f1b",
   "metadata": {},
   "source": [
    "## 1) How does Lending Club compete with the traditional banks? What are the differences in their business models?\n",
    "- As a lender, why do they get attracted to Lending Club instead of the alternatives in traditional banking\n",
    "industry?\n",
    "- As a borrower, how are the loan terms of Lending Club attractive to them?\n",
    "\n",
    "Lending Club is a peer-to-peer company(P2P) headquartered in San Francisco, California. P2P lending is the practice of lending money to individuals or businessses through online services that match lenders with borrowers. Because their services are online, this allows for these companies to operate at a lower overhead or costs, and thus providing their services more cheaply than traditional financial institutions. This process allows for lenders to earn a higher returns compared to savings and investment products offered by traditional banks, while borrowers can borrow money at lower interest rates.\n",
    "\n",
    "For Lending Club, and most other P2P lending companies, they make money through a origination and service fees. "
   ]
  },
  {
   "cell_type": "markdown",
   "id": "0e572522",
   "metadata": {},
   "source": [
    "## 2) Important Vocabulary\n",
    "\n",
    "**FICO:** \n",
    "The FICO score was first introduced in 1989 by Fair, Isaac, and Company (FICO). The FICO model is used by the vast majority of banks and credit grantors and is based on consumer credit files of the three national credit bureaus: Experian, Equifax, and TransUnion. Therefore, FICO scores can vary depending on which bureau provides the information to FICO to generate the score. The exact formulas are kept secret, however, FICO has discoled the following components: \n",
    "- Payment History\n",
    "- Length of Credit History (\"time in file\")\n",
    "- Types of Credit Used (installement, revolving, consumer finance, and mortgage)\n",
    "- Recent seraches for Credit (when consumer apply for a credit card or a loan). \n",
    "\n",
    "**Installment Credit vs. Revolving Credit:**\n",
    "- **Installment Credit**: Borrowers repay installment credit loans with scheduled, periodic payments. This type of credit involves the gradual reduction of principal and eventual full repayment, ending the credit cycle (Ex: Mortgage).\n",
    "- **Revolving Credit**: Revolving credit allows borrowers to spend the borrowed money, repay it, and spend it again. The lender advances them a set credit limit that can be used all at once or in part (Ex: Credit Card).\n",
    "\n",
    "**Installment and Amortization**:\n",
    "A loan is taken where the principal (money originally borrowed) is paid down over the life of the loan according to an *amortization schedule*, typically throguh equal payments. An **installment** is usually a monthly payment that includes pricipal repayment and interest. **Amortization** is the rate at which the installments are extinguishing the debt/principal. Amortization shorten the average duration of the loan money.\n",
    "   - *Amortization Schedule*: A complete table of periodic loan payments, showing the amount of pricipal and the amount of interest that comprise each payment until the loan is paid off a the end of its term. Each periodic payment is the same amount in total for each period. \n",
    "\n",
    "    \n",
    "**Prepayment Risk:** \n",
    "Risk involved with the premature return of principal on a fixed-income security. This risk is held by the lenders since they wouldn't be collecting as much interest if the borrower prepays their loan. Through Lending Club, borrowers may prepay their loans at any time, in whole or in part, without penalty; Lenders get a percentage of the servicing fee.\n",
    "\n",
    "**In the dataset, a loan is labeled either:**\n",
    "- Fully Paid: Fully paid off loan.\n",
    "- Current: Loan is up to date on all outstanding payments.\n",
    "- Late: Payment was sent after the due date or grace period.\n",
    "- Grace Period: A period of time creditors give borrowers to make their payments before incurring a late charge or risk defaulting on the loan.\n",
    "- Default: Failure to make required interest or principal repayments on a loan.\n",
    "- Charge-off: Lender has written the account off as a loan, and the account is closed to future charges. Having a charge-off can mean serious repercussions on credit history and future borrowing ability.\n",
    "\n",
    "**Loan Default vs. Loand Delinquent:**\n",
    "Delinquency means you are behind on payments. Once you are delinquent for a certain period of time (usually 9 months), your lender will declare the loan to be in default.\n",
    "\n",
    "**Loan Settlement:**\n",
    "Agreement between a lender and borrower wherein the loan is 'settled' by repaying only a part of the loan. This option is only available if the borrower has a genuine reason for being unable to repay such as a serious injury, medical emergencies, loss of a job, etc.\n",
    "\n",
    "**Loan Collection:**\n",
    "Loan collection is the process of purusing payments of debts owed by individuals or businesses. An orginization that specializes in debt collection is known as a collection agency or debt collector.\n",
    "\n",
    "**Types of risks in investing in Lending Club Loans:**\n",
    "- Inflation Risk: Inflation eats into real returns, but it's a risk all investments face. Duration.\n",
    "- Fee Risk: Current management fee is 1%, but could go up or down.\n",
    "- Marketplace Risk: Lending Club could go bankrupt, in which case it may take time to get your loans back.\n",
    "- Callable Risk: Loans can be paid off early.\n",
    "- Liquidity Risk: You can't access your money until the loan is paid in full. You can sell your loan on the secondary market, usually at a discount.\n",
    "- Economic Risk: Could go through another financial crisis, where defaults rise.\n"
   ]
  },
  {
   "cell_type": "markdown",
   "id": "fbfa1548",
   "metadata": {},
   "source": [
    "### Pros and Cons of Lending Club\n",
    "\n",
    "Pros:\n",
    "- Diversification: You don't want to have all your money in one investment and Lending Club makes it easy to diversify your money across multiple notes.\n",
    "- Wide Selection: Easily filter and choose investments by loan type, credit score, purpose of loan, etc\n",
    "- Automated Investing: If you don't have the time or know-how, let Lending Club do the investing for your based on your own parameters\n",
    "- Low minimum per note: Investors can invest as little as 25 dollars in each note.\n",
    "\n",
    "Cons:\n",
    "- Illiquidity: If you want to take money out, you haveto wait until each loan comes due.\n",
    "- Taxed at Ordinary Income\n",
    "- 1% Annual Fee: Lending club charges 1% annually per note you own within the marketplace.\n",
    "- Unsecured Debt: Unlike an auto or home loan, this debt is unsecured. Lending Club cannot collect against an asset if ithe borrower defaults.\n"
   ]
  },
  {
   "cell_type": "markdown",
   "id": "9edacc51",
   "metadata": {},
   "source": [
    "### Load Packages and Data"
   ]
  },
  {
   "cell_type": "code",
   "execution_count": 1,
   "id": "5f4609ff",
   "metadata": {},
   "outputs": [],
   "source": [
    "import numpy as np \n",
    "import pandas as pd\n",
    "from datetime import datetime, timedelta\n",
    "import matplotlib.pyplot as plt\n",
    "import seaborn as sns\n",
    "\n",
    "from sklearn.model_selection import train_test_split, GridSearchCV, cross_val_score\n",
    "from catboost import CatBoostClassifier, Pool, metrics, cv, CatBoostRegressor\n",
    "from sklearn import metrics\n",
    "\n",
    "%matplotlib inline\n"
   ]
  },
  {
   "cell_type": "code",
   "execution_count": 2,
   "id": "3dbec35f",
   "metadata": {
    "scrolled": true
   },
   "outputs": [
    {
     "name": "stderr",
     "output_type": "stream",
     "text": [
      "/Users/thomasouyang/opt/anaconda3/lib/python3.9/site-packages/IPython/core/interactiveshell.py:3444: DtypeWarning: Columns (0,19,49,59,118,129,130,131,134,135,136,139,145,146,147) have mixed types.Specify dtype option on import or set low_memory=False.\n",
      "  exec(code_obj, self.user_global_ns, self.user_ns)\n"
     ]
    }
   ],
   "source": [
    "accepted = pd.read_csv(\"data/accepted_2007_to_2018Q4.csv\")"
   ]
  },
  {
   "cell_type": "markdown",
   "id": "8f1d7d04",
   "metadata": {},
   "source": [
    "## 3.1) Exploratory Data Analysis"
   ]
  },
  {
   "cell_type": "code",
   "execution_count": 3,
   "id": "aa28eb9d",
   "metadata": {},
   "outputs": [
    {
     "data": {
      "text/plain": [
       "(2260701, 151)"
      ]
     },
     "execution_count": 3,
     "metadata": {},
     "output_type": "execute_result"
    }
   ],
   "source": [
    "accepted.shape"
   ]
  },
  {
   "cell_type": "code",
   "execution_count": 4,
   "id": "0d3dca82",
   "metadata": {},
   "outputs": [
    {
     "data": {
      "text/html": [
       "<div>\n",
       "<style scoped>\n",
       "    .dataframe tbody tr th:only-of-type {\n",
       "        vertical-align: middle;\n",
       "    }\n",
       "\n",
       "    .dataframe tbody tr th {\n",
       "        vertical-align: top;\n",
       "    }\n",
       "\n",
       "    .dataframe thead th {\n",
       "        text-align: right;\n",
       "    }\n",
       "</style>\n",
       "<table border=\"1\" class=\"dataframe\">\n",
       "  <thead>\n",
       "    <tr style=\"text-align: right;\">\n",
       "      <th></th>\n",
       "      <th>id</th>\n",
       "      <th>member_id</th>\n",
       "      <th>loan_amnt</th>\n",
       "      <th>funded_amnt</th>\n",
       "      <th>funded_amnt_inv</th>\n",
       "      <th>term</th>\n",
       "      <th>int_rate</th>\n",
       "      <th>installment</th>\n",
       "      <th>grade</th>\n",
       "      <th>sub_grade</th>\n",
       "      <th>emp_title</th>\n",
       "      <th>emp_length</th>\n",
       "      <th>home_ownership</th>\n",
       "      <th>annual_inc</th>\n",
       "      <th>verification_status</th>\n",
       "      <th>issue_d</th>\n",
       "      <th>loan_status</th>\n",
       "      <th>pymnt_plan</th>\n",
       "      <th>url</th>\n",
       "      <th>desc</th>\n",
       "      <th>purpose</th>\n",
       "      <th>title</th>\n",
       "      <th>zip_code</th>\n",
       "      <th>addr_state</th>\n",
       "      <th>dti</th>\n",
       "      <th>delinq_2yrs</th>\n",
       "      <th>earliest_cr_line</th>\n",
       "      <th>fico_range_low</th>\n",
       "      <th>fico_range_high</th>\n",
       "      <th>inq_last_6mths</th>\n",
       "      <th>mths_since_last_delinq</th>\n",
       "      <th>mths_since_last_record</th>\n",
       "      <th>open_acc</th>\n",
       "      <th>pub_rec</th>\n",
       "      <th>revol_bal</th>\n",
       "      <th>revol_util</th>\n",
       "      <th>total_acc</th>\n",
       "      <th>initial_list_status</th>\n",
       "      <th>out_prncp</th>\n",
       "      <th>out_prncp_inv</th>\n",
       "      <th>total_pymnt</th>\n",
       "      <th>total_pymnt_inv</th>\n",
       "      <th>total_rec_prncp</th>\n",
       "      <th>total_rec_int</th>\n",
       "      <th>total_rec_late_fee</th>\n",
       "      <th>recoveries</th>\n",
       "      <th>collection_recovery_fee</th>\n",
       "      <th>last_pymnt_d</th>\n",
       "      <th>last_pymnt_amnt</th>\n",
       "      <th>next_pymnt_d</th>\n",
       "      <th>last_credit_pull_d</th>\n",
       "      <th>last_fico_range_high</th>\n",
       "      <th>last_fico_range_low</th>\n",
       "      <th>collections_12_mths_ex_med</th>\n",
       "      <th>mths_since_last_major_derog</th>\n",
       "      <th>policy_code</th>\n",
       "      <th>application_type</th>\n",
       "      <th>annual_inc_joint</th>\n",
       "      <th>dti_joint</th>\n",
       "      <th>verification_status_joint</th>\n",
       "      <th>acc_now_delinq</th>\n",
       "      <th>tot_coll_amt</th>\n",
       "      <th>tot_cur_bal</th>\n",
       "      <th>open_acc_6m</th>\n",
       "      <th>open_act_il</th>\n",
       "      <th>open_il_12m</th>\n",
       "      <th>open_il_24m</th>\n",
       "      <th>mths_since_rcnt_il</th>\n",
       "      <th>total_bal_il</th>\n",
       "      <th>il_util</th>\n",
       "      <th>open_rv_12m</th>\n",
       "      <th>open_rv_24m</th>\n",
       "      <th>max_bal_bc</th>\n",
       "      <th>all_util</th>\n",
       "      <th>total_rev_hi_lim</th>\n",
       "      <th>inq_fi</th>\n",
       "      <th>total_cu_tl</th>\n",
       "      <th>inq_last_12m</th>\n",
       "      <th>acc_open_past_24mths</th>\n",
       "      <th>avg_cur_bal</th>\n",
       "      <th>bc_open_to_buy</th>\n",
       "      <th>bc_util</th>\n",
       "      <th>chargeoff_within_12_mths</th>\n",
       "      <th>delinq_amnt</th>\n",
       "      <th>mo_sin_old_il_acct</th>\n",
       "      <th>mo_sin_old_rev_tl_op</th>\n",
       "      <th>mo_sin_rcnt_rev_tl_op</th>\n",
       "      <th>mo_sin_rcnt_tl</th>\n",
       "      <th>mort_acc</th>\n",
       "      <th>mths_since_recent_bc</th>\n",
       "      <th>mths_since_recent_bc_dlq</th>\n",
       "      <th>mths_since_recent_inq</th>\n",
       "      <th>mths_since_recent_revol_delinq</th>\n",
       "      <th>num_accts_ever_120_pd</th>\n",
       "      <th>num_actv_bc_tl</th>\n",
       "      <th>num_actv_rev_tl</th>\n",
       "      <th>num_bc_sats</th>\n",
       "      <th>num_bc_tl</th>\n",
       "      <th>num_il_tl</th>\n",
       "      <th>num_op_rev_tl</th>\n",
       "      <th>num_rev_accts</th>\n",
       "      <th>num_rev_tl_bal_gt_0</th>\n",
       "      <th>num_sats</th>\n",
       "      <th>num_tl_120dpd_2m</th>\n",
       "      <th>num_tl_30dpd</th>\n",
       "      <th>num_tl_90g_dpd_24m</th>\n",
       "      <th>num_tl_op_past_12m</th>\n",
       "      <th>pct_tl_nvr_dlq</th>\n",
       "      <th>percent_bc_gt_75</th>\n",
       "      <th>pub_rec_bankruptcies</th>\n",
       "      <th>tax_liens</th>\n",
       "      <th>tot_hi_cred_lim</th>\n",
       "      <th>total_bal_ex_mort</th>\n",
       "      <th>total_bc_limit</th>\n",
       "      <th>total_il_high_credit_limit</th>\n",
       "      <th>revol_bal_joint</th>\n",
       "      <th>sec_app_fico_range_low</th>\n",
       "      <th>sec_app_fico_range_high</th>\n",
       "      <th>sec_app_earliest_cr_line</th>\n",
       "      <th>sec_app_inq_last_6mths</th>\n",
       "      <th>sec_app_mort_acc</th>\n",
       "      <th>sec_app_open_acc</th>\n",
       "      <th>sec_app_revol_util</th>\n",
       "      <th>sec_app_open_act_il</th>\n",
       "      <th>sec_app_num_rev_accts</th>\n",
       "      <th>sec_app_chargeoff_within_12_mths</th>\n",
       "      <th>sec_app_collections_12_mths_ex_med</th>\n",
       "      <th>sec_app_mths_since_last_major_derog</th>\n",
       "      <th>hardship_flag</th>\n",
       "      <th>hardship_type</th>\n",
       "      <th>hardship_reason</th>\n",
       "      <th>hardship_status</th>\n",
       "      <th>deferral_term</th>\n",
       "      <th>hardship_amount</th>\n",
       "      <th>hardship_start_date</th>\n",
       "      <th>hardship_end_date</th>\n",
       "      <th>payment_plan_start_date</th>\n",
       "      <th>hardship_length</th>\n",
       "      <th>hardship_dpd</th>\n",
       "      <th>hardship_loan_status</th>\n",
       "      <th>orig_projected_additional_accrued_interest</th>\n",
       "      <th>hardship_payoff_balance_amount</th>\n",
       "      <th>hardship_last_payment_amount</th>\n",
       "      <th>disbursement_method</th>\n",
       "      <th>debt_settlement_flag</th>\n",
       "      <th>debt_settlement_flag_date</th>\n",
       "      <th>settlement_status</th>\n",
       "      <th>settlement_date</th>\n",
       "      <th>settlement_amount</th>\n",
       "      <th>settlement_percentage</th>\n",
       "      <th>settlement_term</th>\n",
       "    </tr>\n",
       "  </thead>\n",
       "  <tbody>\n",
       "    <tr>\n",
       "      <th>0</th>\n",
       "      <td>68407277</td>\n",
       "      <td>NaN</td>\n",
       "      <td>3600.00</td>\n",
       "      <td>3600.00</td>\n",
       "      <td>3600.00</td>\n",
       "      <td>36 months</td>\n",
       "      <td>13.99</td>\n",
       "      <td>123.03</td>\n",
       "      <td>C</td>\n",
       "      <td>C4</td>\n",
       "      <td>leadman</td>\n",
       "      <td>10+ years</td>\n",
       "      <td>MORTGAGE</td>\n",
       "      <td>55000.00</td>\n",
       "      <td>Not Verified</td>\n",
       "      <td>Dec-2015</td>\n",
       "      <td>Fully Paid</td>\n",
       "      <td>n</td>\n",
       "      <td>https://lendingclub.com/browse/loanDetail.acti...</td>\n",
       "      <td>NaN</td>\n",
       "      <td>debt_consolidation</td>\n",
       "      <td>Debt consolidation</td>\n",
       "      <td>190xx</td>\n",
       "      <td>PA</td>\n",
       "      <td>5.91</td>\n",
       "      <td>0.00</td>\n",
       "      <td>Aug-2003</td>\n",
       "      <td>675.00</td>\n",
       "      <td>679.00</td>\n",
       "      <td>1.00</td>\n",
       "      <td>30.00</td>\n",
       "      <td>NaN</td>\n",
       "      <td>7.00</td>\n",
       "      <td>0.00</td>\n",
       "      <td>2765.00</td>\n",
       "      <td>29.70</td>\n",
       "      <td>13.00</td>\n",
       "      <td>w</td>\n",
       "      <td>0.00</td>\n",
       "      <td>0.00</td>\n",
       "      <td>4421.72</td>\n",
       "      <td>4421.72</td>\n",
       "      <td>3600.00</td>\n",
       "      <td>821.72</td>\n",
       "      <td>0.00</td>\n",
       "      <td>0.00</td>\n",
       "      <td>0.00</td>\n",
       "      <td>Jan-2019</td>\n",
       "      <td>122.67</td>\n",
       "      <td>NaN</td>\n",
       "      <td>Mar-2019</td>\n",
       "      <td>564.00</td>\n",
       "      <td>560.00</td>\n",
       "      <td>0.00</td>\n",
       "      <td>30.00</td>\n",
       "      <td>1.00</td>\n",
       "      <td>Individual</td>\n",
       "      <td>NaN</td>\n",
       "      <td>NaN</td>\n",
       "      <td>NaN</td>\n",
       "      <td>0.00</td>\n",
       "      <td>722.00</td>\n",
       "      <td>144904.00</td>\n",
       "      <td>2.00</td>\n",
       "      <td>2.00</td>\n",
       "      <td>0.00</td>\n",
       "      <td>1.00</td>\n",
       "      <td>21.00</td>\n",
       "      <td>4981.00</td>\n",
       "      <td>36.00</td>\n",
       "      <td>3.00</td>\n",
       "      <td>3.00</td>\n",
       "      <td>722.00</td>\n",
       "      <td>34.00</td>\n",
       "      <td>9300.00</td>\n",
       "      <td>3.00</td>\n",
       "      <td>1.00</td>\n",
       "      <td>4.00</td>\n",
       "      <td>4.00</td>\n",
       "      <td>20701.00</td>\n",
       "      <td>1506.00</td>\n",
       "      <td>37.20</td>\n",
       "      <td>0.00</td>\n",
       "      <td>0.00</td>\n",
       "      <td>148.00</td>\n",
       "      <td>128.00</td>\n",
       "      <td>3.00</td>\n",
       "      <td>3.00</td>\n",
       "      <td>1.00</td>\n",
       "      <td>4.00</td>\n",
       "      <td>69.00</td>\n",
       "      <td>4.00</td>\n",
       "      <td>69.00</td>\n",
       "      <td>2.00</td>\n",
       "      <td>2.00</td>\n",
       "      <td>4.00</td>\n",
       "      <td>2.00</td>\n",
       "      <td>5.00</td>\n",
       "      <td>3.00</td>\n",
       "      <td>4.00</td>\n",
       "      <td>9.00</td>\n",
       "      <td>4.00</td>\n",
       "      <td>7.00</td>\n",
       "      <td>0.00</td>\n",
       "      <td>0.00</td>\n",
       "      <td>0.00</td>\n",
       "      <td>3.00</td>\n",
       "      <td>76.90</td>\n",
       "      <td>0.00</td>\n",
       "      <td>0.00</td>\n",
       "      <td>0.00</td>\n",
       "      <td>178050.00</td>\n",
       "      <td>7746.00</td>\n",
       "      <td>2400.00</td>\n",
       "      <td>13734.00</td>\n",
       "      <td>NaN</td>\n",
       "      <td>NaN</td>\n",
       "      <td>NaN</td>\n",
       "      <td>NaN</td>\n",
       "      <td>NaN</td>\n",
       "      <td>NaN</td>\n",
       "      <td>NaN</td>\n",
       "      <td>NaN</td>\n",
       "      <td>NaN</td>\n",
       "      <td>NaN</td>\n",
       "      <td>NaN</td>\n",
       "      <td>NaN</td>\n",
       "      <td>NaN</td>\n",
       "      <td>N</td>\n",
       "      <td>NaN</td>\n",
       "      <td>NaN</td>\n",
       "      <td>NaN</td>\n",
       "      <td>NaN</td>\n",
       "      <td>NaN</td>\n",
       "      <td>NaN</td>\n",
       "      <td>NaN</td>\n",
       "      <td>NaN</td>\n",
       "      <td>NaN</td>\n",
       "      <td>NaN</td>\n",
       "      <td>NaN</td>\n",
       "      <td>NaN</td>\n",
       "      <td>NaN</td>\n",
       "      <td>NaN</td>\n",
       "      <td>Cash</td>\n",
       "      <td>N</td>\n",
       "      <td>NaN</td>\n",
       "      <td>NaN</td>\n",
       "      <td>NaN</td>\n",
       "      <td>NaN</td>\n",
       "      <td>NaN</td>\n",
       "      <td>NaN</td>\n",
       "    </tr>\n",
       "  </tbody>\n",
       "</table>\n",
       "</div>"
      ],
      "text/plain": [
       "         id  member_id  loan_amnt  funded_amnt  funded_amnt_inv        term  \\\n",
       "0  68407277        NaN    3600.00      3600.00          3600.00   36 months   \n",
       "\n",
       "   int_rate  installment grade sub_grade emp_title emp_length home_ownership  \\\n",
       "0     13.99       123.03     C        C4   leadman  10+ years       MORTGAGE   \n",
       "\n",
       "   annual_inc verification_status   issue_d loan_status pymnt_plan  \\\n",
       "0    55000.00        Not Verified  Dec-2015  Fully Paid          n   \n",
       "\n",
       "                                                 url desc             purpose  \\\n",
       "0  https://lendingclub.com/browse/loanDetail.acti...  NaN  debt_consolidation   \n",
       "\n",
       "                title zip_code addr_state  dti  delinq_2yrs earliest_cr_line  \\\n",
       "0  Debt consolidation    190xx         PA 5.91         0.00         Aug-2003   \n",
       "\n",
       "   fico_range_low  fico_range_high  inq_last_6mths  mths_since_last_delinq  \\\n",
       "0          675.00           679.00            1.00                   30.00   \n",
       "\n",
       "   mths_since_last_record  open_acc  pub_rec  revol_bal  revol_util  \\\n",
       "0                     NaN      7.00     0.00    2765.00       29.70   \n",
       "\n",
       "   total_acc initial_list_status  out_prncp  out_prncp_inv  total_pymnt  \\\n",
       "0      13.00                   w       0.00           0.00      4421.72   \n",
       "\n",
       "   total_pymnt_inv  total_rec_prncp  total_rec_int  total_rec_late_fee  \\\n",
       "0          4421.72          3600.00         821.72                0.00   \n",
       "\n",
       "   recoveries  collection_recovery_fee last_pymnt_d  last_pymnt_amnt  \\\n",
       "0        0.00                     0.00     Jan-2019           122.67   \n",
       "\n",
       "  next_pymnt_d last_credit_pull_d  last_fico_range_high  last_fico_range_low  \\\n",
       "0          NaN           Mar-2019                564.00               560.00   \n",
       "\n",
       "   collections_12_mths_ex_med  mths_since_last_major_derog  policy_code  \\\n",
       "0                        0.00                        30.00         1.00   \n",
       "\n",
       "  application_type  annual_inc_joint  dti_joint verification_status_joint  \\\n",
       "0       Individual               NaN        NaN                       NaN   \n",
       "\n",
       "   acc_now_delinq  tot_coll_amt  tot_cur_bal  open_acc_6m  open_act_il  \\\n",
       "0            0.00        722.00    144904.00         2.00         2.00   \n",
       "\n",
       "   open_il_12m  open_il_24m  mths_since_rcnt_il  total_bal_il  il_util  \\\n",
       "0         0.00         1.00               21.00       4981.00    36.00   \n",
       "\n",
       "   open_rv_12m  open_rv_24m  max_bal_bc  all_util  total_rev_hi_lim  inq_fi  \\\n",
       "0         3.00         3.00      722.00     34.00           9300.00    3.00   \n",
       "\n",
       "   total_cu_tl  inq_last_12m  acc_open_past_24mths  avg_cur_bal  \\\n",
       "0         1.00          4.00                  4.00     20701.00   \n",
       "\n",
       "   bc_open_to_buy  bc_util  chargeoff_within_12_mths  delinq_amnt  \\\n",
       "0         1506.00    37.20                      0.00         0.00   \n",
       "\n",
       "   mo_sin_old_il_acct  mo_sin_old_rev_tl_op  mo_sin_rcnt_rev_tl_op  \\\n",
       "0              148.00                128.00                   3.00   \n",
       "\n",
       "   mo_sin_rcnt_tl  mort_acc  mths_since_recent_bc  mths_since_recent_bc_dlq  \\\n",
       "0            3.00      1.00                  4.00                     69.00   \n",
       "\n",
       "   mths_since_recent_inq  mths_since_recent_revol_delinq  \\\n",
       "0                   4.00                           69.00   \n",
       "\n",
       "   num_accts_ever_120_pd  num_actv_bc_tl  num_actv_rev_tl  num_bc_sats  \\\n",
       "0                   2.00            2.00             4.00         2.00   \n",
       "\n",
       "   num_bc_tl  num_il_tl  num_op_rev_tl  num_rev_accts  num_rev_tl_bal_gt_0  \\\n",
       "0       5.00       3.00           4.00           9.00                 4.00   \n",
       "\n",
       "   num_sats  num_tl_120dpd_2m  num_tl_30dpd  num_tl_90g_dpd_24m  \\\n",
       "0      7.00              0.00          0.00                0.00   \n",
       "\n",
       "   num_tl_op_past_12m  pct_tl_nvr_dlq  percent_bc_gt_75  pub_rec_bankruptcies  \\\n",
       "0                3.00           76.90              0.00                  0.00   \n",
       "\n",
       "   tax_liens  tot_hi_cred_lim  total_bal_ex_mort  total_bc_limit  \\\n",
       "0       0.00        178050.00            7746.00         2400.00   \n",
       "\n",
       "   total_il_high_credit_limit  revol_bal_joint  sec_app_fico_range_low  \\\n",
       "0                    13734.00              NaN                     NaN   \n",
       "\n",
       "   sec_app_fico_range_high sec_app_earliest_cr_line  sec_app_inq_last_6mths  \\\n",
       "0                      NaN                      NaN                     NaN   \n",
       "\n",
       "   sec_app_mort_acc  sec_app_open_acc  sec_app_revol_util  \\\n",
       "0               NaN               NaN                 NaN   \n",
       "\n",
       "   sec_app_open_act_il  sec_app_num_rev_accts  \\\n",
       "0                  NaN                    NaN   \n",
       "\n",
       "   sec_app_chargeoff_within_12_mths  sec_app_collections_12_mths_ex_med  \\\n",
       "0                               NaN                                 NaN   \n",
       "\n",
       "   sec_app_mths_since_last_major_derog hardship_flag hardship_type  \\\n",
       "0                                  NaN             N           NaN   \n",
       "\n",
       "  hardship_reason hardship_status  deferral_term  hardship_amount  \\\n",
       "0             NaN             NaN            NaN              NaN   \n",
       "\n",
       "  hardship_start_date hardship_end_date payment_plan_start_date  \\\n",
       "0                 NaN               NaN                     NaN   \n",
       "\n",
       "   hardship_length  hardship_dpd hardship_loan_status  \\\n",
       "0              NaN           NaN                  NaN   \n",
       "\n",
       "   orig_projected_additional_accrued_interest  hardship_payoff_balance_amount  \\\n",
       "0                                         NaN                             NaN   \n",
       "\n",
       "   hardship_last_payment_amount disbursement_method debt_settlement_flag  \\\n",
       "0                           NaN                Cash                    N   \n",
       "\n",
       "  debt_settlement_flag_date settlement_status settlement_date  \\\n",
       "0                       NaN               NaN             NaN   \n",
       "\n",
       "   settlement_amount  settlement_percentage  settlement_term  \n",
       "0                NaN                    NaN              NaN  "
      ]
     },
     "execution_count": 4,
     "metadata": {},
     "output_type": "execute_result"
    }
   ],
   "source": [
    "pd.set_option('display.float', '{:.2f}'.format)\n",
    "pd.set_option('display.max_columns', 500)\n",
    "pd.set_option('display.max_rows', 50)\n",
    "accepted.head(1)"
   ]
  },
  {
   "cell_type": "markdown",
   "id": "8e0c878f",
   "metadata": {},
   "source": [
    "#### Target Variable: Loan Status\n",
    "\n",
    "Low-risk Loans: Fully Paid\n",
    "\n",
    "High-risk Loans: Charged Off"
   ]
  },
  {
   "cell_type": "code",
   "execution_count": 5,
   "id": "120c8896",
   "metadata": {},
   "outputs": [
    {
     "data": {
      "text/html": [
       "<div>\n",
       "<style scoped>\n",
       "    .dataframe tbody tr th:only-of-type {\n",
       "        vertical-align: middle;\n",
       "    }\n",
       "\n",
       "    .dataframe tbody tr th {\n",
       "        vertical-align: top;\n",
       "    }\n",
       "\n",
       "    .dataframe thead th {\n",
       "        text-align: right;\n",
       "    }\n",
       "</style>\n",
       "<table border=\"1\" class=\"dataframe\">\n",
       "  <thead>\n",
       "    <tr style=\"text-align: right;\">\n",
       "      <th></th>\n",
       "      <th>loan_status</th>\n",
       "      <th>ratio</th>\n",
       "    </tr>\n",
       "    <tr>\n",
       "      <th>loan_status</th>\n",
       "      <th></th>\n",
       "      <th></th>\n",
       "    </tr>\n",
       "  </thead>\n",
       "  <tbody>\n",
       "    <tr>\n",
       "      <th>Fully Paid</th>\n",
       "      <td>1076751</td>\n",
       "      <td>47.63</td>\n",
       "    </tr>\n",
       "    <tr>\n",
       "      <th>Current</th>\n",
       "      <td>878317</td>\n",
       "      <td>38.85</td>\n",
       "    </tr>\n",
       "    <tr>\n",
       "      <th>Charged Off</th>\n",
       "      <td>268559</td>\n",
       "      <td>11.88</td>\n",
       "    </tr>\n",
       "    <tr>\n",
       "      <th>Late (31-120 days)</th>\n",
       "      <td>21467</td>\n",
       "      <td>0.95</td>\n",
       "    </tr>\n",
       "    <tr>\n",
       "      <th>In Grace Period</th>\n",
       "      <td>8436</td>\n",
       "      <td>0.37</td>\n",
       "    </tr>\n",
       "    <tr>\n",
       "      <th>Late (16-30 days)</th>\n",
       "      <td>4349</td>\n",
       "      <td>0.19</td>\n",
       "    </tr>\n",
       "    <tr>\n",
       "      <th>Does not meet the credit policy. Status:Fully Paid</th>\n",
       "      <td>1988</td>\n",
       "      <td>0.09</td>\n",
       "    </tr>\n",
       "    <tr>\n",
       "      <th>Does not meet the credit policy. Status:Charged Off</th>\n",
       "      <td>761</td>\n",
       "      <td>0.03</td>\n",
       "    </tr>\n",
       "    <tr>\n",
       "      <th>Default</th>\n",
       "      <td>40</td>\n",
       "      <td>0.00</td>\n",
       "    </tr>\n",
       "  </tbody>\n",
       "</table>\n",
       "</div>"
      ],
      "text/plain": [
       "                                                    loan_status  ratio\n",
       "loan_status                                                           \n",
       "Fully Paid                                              1076751  47.63\n",
       "Current                                                  878317  38.85\n",
       "Charged Off                                              268559  11.88\n",
       "Late (31-120 days)                                        21467   0.95\n",
       "In Grace Period                                            8436   0.37\n",
       "Late (16-30 days)                                          4349   0.19\n",
       "Does not meet the credit policy. Status:Fully Paid         1988   0.09\n",
       "Does not meet the credit policy. Status:Charged...          761   0.03\n",
       "Default                                                      40   0.00"
      ]
     },
     "execution_count": 5,
     "metadata": {},
     "output_type": "execute_result"
    }
   ],
   "source": [
    "loan_status = accepted.groupby('loan_status')[['loan_status']].count()\n",
    "loan_status['ratio'] = ((loan_status[['loan_status']]/accepted.shape[0])*100).round(2)\n",
    "loan_status.sort_values(by=[\"ratio\"], ascending=False)"
   ]
  },
  {
   "cell_type": "code",
   "execution_count": 6,
   "id": "5ec9fa69",
   "metadata": {},
   "outputs": [],
   "source": [
    "# Beyond Delinquency\n",
    "# Percentage of non-completed loans\n",
    "\n",
    "high_risk = ['Default', 'Charged Off', 'Does not meet the credit policy. Status:Charged Off']"
   ]
  },
  {
   "cell_type": "code",
   "execution_count": 7,
   "id": "df9da508",
   "metadata": {},
   "outputs": [],
   "source": [
    "accepted['loan_completion'] = np.nan\n",
    "\n",
    "def loan_condition(status):\n",
    "    if status in high_risk:\n",
    "        return 'Noncompleted Loan'\n",
    "    else:\n",
    "        return 'Completed Loan'\n",
    "\n",
    "\n",
    "accepted['loan_completion'] = accepted['loan_status'].apply(loan_condition)"
   ]
  },
  {
   "cell_type": "code",
   "execution_count": 8,
   "id": "87a8b377",
   "metadata": {},
   "outputs": [
    {
     "data": {
      "text/plain": [
       "Completed Loan      0.88\n",
       "Noncompleted Loan   0.12\n",
       "Name: loan_completion, dtype: float64"
      ]
     },
     "execution_count": 8,
     "metadata": {},
     "output_type": "execute_result"
    }
   ],
   "source": [
    "accepted['loan_completion'].value_counts()/len(accepted['loan_completion'])"
   ]
  },
  {
   "cell_type": "markdown",
   "id": "5c1d11c6",
   "metadata": {},
   "source": [
    "This shows we are dealing with an imbalanced dataset. Other metrics such as AUC should be used (besides accuracy) to better understand if our model is working. "
   ]
  },
  {
   "cell_type": "code",
   "execution_count": 9,
   "id": "a8954471",
   "metadata": {},
   "outputs": [
    {
     "data": {
      "text/plain": [
       "0          Dec-2015\n",
       "1          Dec-2015\n",
       "2          Dec-2015\n",
       "3          Dec-2015\n",
       "4          Dec-2015\n",
       "             ...   \n",
       "2260696    Oct-2016\n",
       "2260697    Oct-2016\n",
       "2260698    Oct-2016\n",
       "2260699         NaN\n",
       "2260700         NaN\n",
       "Name: issue_d, Length: 2260701, dtype: object"
      ]
     },
     "execution_count": 9,
     "metadata": {},
     "output_type": "execute_result"
    }
   ],
   "source": [
    "accepted['issue_d']"
   ]
  },
  {
   "cell_type": "code",
   "execution_count": 10,
   "id": "f4f6b14a",
   "metadata": {},
   "outputs": [
    {
     "data": {
      "text/plain": [
       "0         2015.00\n",
       "1         2015.00\n",
       "2         2015.00\n",
       "3         2015.00\n",
       "4         2015.00\n",
       "            ...  \n",
       "2260696   2016.00\n",
       "2260697   2016.00\n",
       "2260698   2016.00\n",
       "2260699       NaN\n",
       "2260700       NaN\n",
       "Name: year, Length: 2260701, dtype: float64"
      ]
     },
     "execution_count": 10,
     "metadata": {},
     "output_type": "execute_result"
    }
   ],
   "source": [
    "accepted['issue_d'] = pd.to_datetime(accepted['issue_d'])\n",
    "accepted['year'] = pd.DatetimeIndex(accepted['issue_d']).year\n",
    "accepted['year']"
   ]
  },
  {
   "cell_type": "code",
   "execution_count": 11,
   "id": "b47c666b",
   "metadata": {},
   "outputs": [
    {
     "data": {
      "text/plain": [
       "Text(0, 0.5, ' ')"
      ]
     },
     "execution_count": 11,
     "metadata": {},
     "output_type": "execute_result"
    },
    {
     "data": {
      "image/png": "[encoded data removed]",
      "text/plain": [
       "<Figure size 432x288 with 1 Axes>"
      ]
     },
     "metadata": {},
     "output_type": "display_data"
    }
   ],
   "source": [
    "f, ax= plt.subplots()\n",
    "\n",
    "colors = ['lightcoral', 'orangered']\n",
    "labels ='Completed Loan', 'Noncompleted Loan'\n",
    "\n",
    "plt.suptitle('Information on Loan Completions', fontsize=20)\n",
    "\n",
    "accepted['loan_completion'].value_counts().plot.pie(explode=[0,0.1], autopct='%1.2f%%', colors=colors, \n",
    "                                             labels=labels, fontsize=12, startangle=70)\n",
    "\n",
    "\n",
    "ax.set_ylabel(' ')\n"
   ]
  },
  {
   "cell_type": "markdown",
   "id": "cfa2702f",
   "metadata": {},
   "source": [
    "Now that we have an idea of what percentage of loans are completed, there are a few variables that one would intuitively think affects probability of default\n",
    "- Loan Amount \n",
    "- Interest Rate\n",
    "- Loan Term\n",
    "- Credit Score"
   ]
  },
  {
   "cell_type": "markdown",
   "id": "79d9e351",
   "metadata": {},
   "source": [
    "#### Values of Loans Issued"
   ]
  },
  {
   "cell_type": "code",
   "execution_count": 12,
   "id": "961ca1ef",
   "metadata": {},
   "outputs": [],
   "source": [
    "loans_issued = accepted.groupby('issue_d')['loan_amnt'].sum().reset_index()\n",
    "loans_issued['issue_d'] = pd.DatetimeIndex(loans_issued['issue_d']).year\n",
    "loans_issued = loans_issued.groupby('issue_d').sum().reset_index()\n"
   ]
  },
  {
   "cell_type": "code",
   "execution_count": 13,
   "id": "6848d118",
   "metadata": {},
   "outputs": [
    {
     "data": {
      "text/plain": [
       "([<matplotlib.axis.YTick at 0x7f8fc18a5640>,\n",
       "  <matplotlib.axis.YTick at 0x7f8fc18a5d00>,\n",
       "  <matplotlib.axis.YTick at 0x7f9017eb7dc0>,\n",
       "  <matplotlib.axis.YTick at 0x7f90765b4730>,\n",
       "  <matplotlib.axis.YTick at 0x7f90765b4e80>,\n",
       "  <matplotlib.axis.YTick at 0x7f90765c5610>,\n",
       "  <matplotlib.axis.YTick at 0x7f90765c5d60>,\n",
       "  <matplotlib.axis.YTick at 0x7f90765c5dc0>,\n",
       "  <matplotlib.axis.YTick at 0x7f90765b4b20>,\n",
       "  <matplotlib.axis.YTick at 0x7f90765c8730>],\n",
       " [Text(0, 0.0, '0'),\n",
       "  Text(0, 1000000000.0, '1'),\n",
       "  Text(0, 2000000000.0, '2'),\n",
       "  Text(0, 3000000000.0, '3'),\n",
       "  Text(0, 4000000000.0, '4'),\n",
       "  Text(0, 5000000000.0, '5'),\n",
       "  Text(0, 6000000000.0, '6'),\n",
       "  Text(0, 7000000000.0, '7'),\n",
       "  Text(0, 8000000000.0, '8'),\n",
       "  Text(0, 9000000000.0, '9')])"
      ]
     },
     "execution_count": 13,
     "metadata": {},
     "output_type": "execute_result"
    },
    {
     "data": {
      "image/png": "[encoded data removed]",
      "text/plain": [
       "<Figure size 432x288 with 1 Axes>"
      ]
     },
     "metadata": {
      "needs_background": "light"
     },
     "output_type": "display_data"
    }
   ],
   "source": [
    "f, ax = plt.subplots()\n",
    "ax.bar(loans_issued.issue_d, loans_issued.loan_amnt)\n",
    "\n",
    "ax.set_ylabel('Loans in Billions')\n",
    "ax.set_xlabel(\"Year\")\n",
    "ax.set_title(\"Value of Loans Issued\")\n",
    "plt.yticks(ax.get_yticks(), (ax.get_yticks() / 1000000000).astype(int))"
   ]
  },
  {
   "cell_type": "markdown",
   "id": "bf169bbb",
   "metadata": {},
   "source": [
    "#### Credit Grades Over Time"
   ]
  },
  {
   "cell_type": "code",
   "execution_count": 14,
   "id": "e3a4ab40",
   "metadata": {},
   "outputs": [
    {
     "data": {
      "text/plain": [
       "(array([ 0,  1,  2,  3,  4,  5,  6,  7,  8,  9, 10, 11]),\n",
       " [Text(0, 0, '2007.0'),\n",
       "  Text(1, 0, '2008.0'),\n",
       "  Text(2, 0, '2009.0'),\n",
       "  Text(3, 0, '2010.0'),\n",
       "  Text(4, 0, '2011.0'),\n",
       "  Text(5, 0, '2012.0'),\n",
       "  Text(6, 0, '2013.0'),\n",
       "  Text(7, 0, '2014.0'),\n",
       "  Text(8, 0, '2015.0'),\n",
       "  Text(9, 0, '2016.0'),\n",
       "  Text(10, 0, '2017.0'),\n",
       "  Text(11, 0, '2018.0')])"
      ]
     },
     "execution_count": 14,
     "metadata": {},
     "output_type": "execute_result"
    },
    {
     "data": {
      "image/png": "[encoded data removed]",
      "text/plain": [
       "<Figure size 720x360 with 1 Axes>"
      ]
     },
     "metadata": {
      "needs_background": "light"
     },
     "output_type": "display_data"
    }
   ],
   "source": [
    "\n",
    "accepted.groupby(['year', 'grade']).size().unstack().plot(kind = 'bar', \n",
    "                                                          stacked = True, \n",
    "                                                          figsize=(10, 5), \n",
    "                                                          cmap = 'tab10')\n",
    "plt.ylabel('Count')\n",
    "plt.xlabel(\"Year\")\n",
    "plt.title(\"Number of Credit Grade(s) Per Year\")\n",
    "plt.xticks(rotation = 0)"
   ]
  },
  {
   "cell_type": "markdown",
   "id": "f72601fe",
   "metadata": {},
   "source": [
    "#### Loan Purposes based on Credit Grade"
   ]
  },
  {
   "cell_type": "code",
   "execution_count": 15,
   "id": "0c9b3eb3",
   "metadata": {
    "scrolled": true
   },
   "outputs": [
    {
     "data": {
      "text/plain": [
       "(array([0, 1, 2, 3, 4, 5, 6]),\n",
       " [Text(0, 0, 'A'),\n",
       "  Text(1, 0, 'B'),\n",
       "  Text(2, 0, 'C'),\n",
       "  Text(3, 0, 'D'),\n",
       "  Text(4, 0, 'E'),\n",
       "  Text(5, 0, 'F'),\n",
       "  Text(6, 0, 'G')])"
      ]
     },
     "execution_count": 15,
     "metadata": {},
     "output_type": "execute_result"
    },
    {
     "data": {
      "image/png": "[encoded data removed]",
      "text/plain": [
       "<Figure size 720x360 with 1 Axes>"
      ]
     },
     "metadata": {
      "needs_background": "light"
     },
     "output_type": "display_data"
    }
   ],
   "source": [
    "\n",
    "accepted.groupby(['grade', 'purpose']).size().unstack().plot(kind = 'bar', stacked = True, figsize=(10, 5), cmap = 'tab10')\n",
    "plt.legend(loc='center left', bbox_to_anchor=(1.0, 0.5))\n",
    "plt.title('Number of Loans per Purpose per Credit Grade')\n",
    "plt.ylabel('Count')\n",
    "plt.xticks(rotation = 0)\n",
    "\n"
   ]
  },
  {
   "cell_type": "markdown",
   "id": "838613c5",
   "metadata": {},
   "source": [
    "#### Credit Score\n",
    "\n",
    "Majority of Borrowers have a Credit Score of B or C"
   ]
  },
  {
   "cell_type": "code",
   "execution_count": 16,
   "id": "4cdf3768",
   "metadata": {},
   "outputs": [
    {
     "data": {
      "text/plain": [
       "B    663557\n",
       "C    650053\n",
       "A    433027\n",
       "D    324424\n",
       "E    135639\n",
       "F     41800\n",
       "G     12168\n",
       "Name: grade, dtype: int64"
      ]
     },
     "execution_count": 16,
     "metadata": {},
     "output_type": "execute_result"
    }
   ],
   "source": [
    "accepted['grade'].value_counts()"
   ]
  },
  {
   "cell_type": "code",
   "execution_count": 17,
   "id": "bca452ab",
   "metadata": {},
   "outputs": [
    {
     "data": {
      "image/png": "[encoded data removed]",
      "text/plain": [
       "<Figure size 432x288 with 1 Axes>"
      ]
     },
     "metadata": {
      "needs_background": "light"
     },
     "output_type": "display_data"
    }
   ],
   "source": [
    "f, ax = plt.subplots()\n",
    "\n",
    "accepted.groupby(['grade']).size().plot(kind ='bar')\n",
    "\n",
    "ax.set_ylabel('Number of Loans (in Thousands)', size = 12)\n",
    "ax.set_xlabel('Credit Grade', size = 12)\n",
    "ax.set_title('Number of Loans per Credit Grade')\n",
    "\n",
    "plt.yticks(ax.get_yticks(), (ax.get_yticks() / 1000).astype(int))\n",
    "\n",
    "\n",
    "ax.tick_params(axis='x', labelrotation = 0)"
   ]
  },
  {
   "cell_type": "markdown",
   "id": "3797e749",
   "metadata": {},
   "source": [
    "#### Interest Rates\n",
    "\n",
    "Inverse Relationship as expected"
   ]
  },
  {
   "cell_type": "code",
   "execution_count": 18,
   "id": "e41a8dd3",
   "metadata": {
    "scrolled": true
   },
   "outputs": [
    {
     "data": {
      "text/plain": [
       "Text(0.5, 1.0, 'Average Interest Rates per Credit Grade')"
      ]
     },
     "execution_count": 18,
     "metadata": {},
     "output_type": "execute_result"
    },
    {
     "data": {
      "image/png": "[encoded data removed]",
      "text/plain": [
       "<Figure size 432x288 with 1 Axes>"
      ]
     },
     "metadata": {
      "needs_background": "light"
     },
     "output_type": "display_data"
    }
   ],
   "source": [
    "f, ax = plt.subplots()\n",
    "\n",
    "sns.barplot(x=\"grade\", y='int_rate', data=accepted, dodge = False, order =['A','B','C','D','E','F', 'G']) \n",
    "ax.set_ylabel('Interest Rates in Percent', size = 12)\n",
    "ax.set_xlabel('Credit Grade', size = 12)\n",
    "ax.set_title('Average Interest Rates per Credit Grade')\n"
   ]
  },
  {
   "cell_type": "markdown",
   "id": "9d330314",
   "metadata": {},
   "source": [
    "#### Loan Terms per Credit Grade"
   ]
  },
  {
   "cell_type": "code",
   "execution_count": 19,
   "id": "2b9e2ee9",
   "metadata": {
    "scrolled": true
   },
   "outputs": [
    {
     "data": {
      "text/plain": [
       "grade  term      \n",
       "A       36 months    409181\n",
       "        60 months     23846\n",
       "B       36 months    534906\n",
       "        60 months    128651\n",
       "C       36 months    419858\n",
       "        60 months    230195\n",
       "D       36 months    184199\n",
       "        60 months    140225\n",
       "E       36 months     50791\n",
       "        60 months     84848\n",
       "F       36 months      8717\n",
       "        60 months     33083\n",
       "G       36 months      2102\n",
       "        60 months     10066\n",
       "Name: loan_status, dtype: int64"
      ]
     },
     "execution_count": 19,
     "metadata": {},
     "output_type": "execute_result"
    }
   ],
   "source": [
    "accepted.groupby(['grade','term'])['loan_status'].size()"
   ]
  },
  {
   "cell_type": "markdown",
   "id": "d503b492",
   "metadata": {},
   "source": [
    "## 3.2) Feature Selection\n",
    "\n",
    "Since we are tackling this project from the prospective of an investor, the probability of the loans is crucial for our success. Since this is a predictive task, we can only use information available at the time loan initialization.\n",
    "\n",
    "- id, loan_amnt, term, int_rate, grade, sub_grade, emp_title, emp_length, home_ownership, annual_inc, verification_status, loan_status (target), purpose, zip_code, addr_state, dti, earliest_cr_line, fico_range_low, fico_range_high, open_acc, pub_rec, initial_list_status, application_type, annual_inc_joint, dti_joint, verification_status_joint, pub_rec_bankruptcies\n",
    "\n",
    "Column index: 0, 2, 5, 6, 8, 9, 10, 11, 12, 13, 14, 16, 20, 22, 23, 24, 26, 27, 28, 32, 33, 37, 56, 57, 58, 59, 109"
   ]
  },
  {
   "cell_type": "code",
   "execution_count": 20,
   "id": "d905bda4",
   "metadata": {
    "scrolled": false
   },
   "outputs": [
    {
     "name": "stdout",
     "output_type": "stream",
     "text": [
      "0 id\n",
      "1 member_id\n",
      "2 loan_amnt\n",
      "3 funded_amnt\n",
      "4 funded_amnt_inv\n",
      "5 term\n",
      "6 int_rate\n",
      "7 installment\n",
      "8 grade\n",
      "9 sub_grade\n",
      "10 emp_title\n",
      "11 emp_length\n",
      "12 home_ownership\n",
      "13 annual_inc\n",
      "14 verification_status\n",
      "15 issue_d\n",
      "16 loan_status\n",
      "17 pymnt_plan\n",
      "18 url\n",
      "19 desc\n",
      "20 purpose\n",
      "21 title\n",
      "22 zip_code\n",
      "23 addr_state\n",
      "24 dti\n",
      "25 delinq_2yrs\n",
      "26 earliest_cr_line\n",
      "27 fico_range_low\n",
      "28 fico_range_high\n",
      "29 inq_last_6mths\n",
      "30 mths_since_last_delinq\n",
      "31 mths_since_last_record\n",
      "32 open_acc\n",
      "33 pub_rec\n",
      "34 revol_bal\n",
      "35 revol_util\n",
      "36 total_acc\n",
      "37 initial_list_status\n",
      "38 out_prncp\n",
      "39 out_prncp_inv\n",
      "40 total_pymnt\n",
      "41 total_pymnt_inv\n",
      "42 total_rec_prncp\n",
      "43 total_rec_int\n",
      "44 total_rec_late_fee\n",
      "45 recoveries\n",
      "46 collection_recovery_fee\n",
      "47 last_pymnt_d\n",
      "48 last_pymnt_amnt\n",
      "49 next_pymnt_d\n",
      "50 last_credit_pull_d\n",
      "51 last_fico_range_high\n",
      "52 last_fico_range_low\n",
      "53 collections_12_mths_ex_med\n",
      "54 mths_since_last_major_derog\n",
      "55 policy_code\n",
      "56 application_type\n",
      "57 annual_inc_joint\n",
      "58 dti_joint\n",
      "59 verification_status_joint\n",
      "60 acc_now_delinq\n",
      "61 tot_coll_amt\n",
      "62 tot_cur_bal\n",
      "63 open_acc_6m\n",
      "64 open_act_il\n",
      "65 open_il_12m\n",
      "66 open_il_24m\n",
      "67 mths_since_rcnt_il\n",
      "68 total_bal_il\n",
      "69 il_util\n",
      "70 open_rv_12m\n",
      "71 open_rv_24m\n",
      "72 max_bal_bc\n",
      "73 all_util\n",
      "74 total_rev_hi_lim\n",
      "75 inq_fi\n",
      "76 total_cu_tl\n",
      "77 inq_last_12m\n",
      "78 acc_open_past_24mths\n",
      "79 avg_cur_bal\n",
      "80 bc_open_to_buy\n",
      "81 bc_util\n",
      "82 chargeoff_within_12_mths\n",
      "83 delinq_amnt\n",
      "84 mo_sin_old_il_acct\n",
      "85 mo_sin_old_rev_tl_op\n",
      "86 mo_sin_rcnt_rev_tl_op\n",
      "87 mo_sin_rcnt_tl\n",
      "88 mort_acc\n",
      "89 mths_since_recent_bc\n",
      "90 mths_since_recent_bc_dlq\n",
      "91 mths_since_recent_inq\n",
      "92 mths_since_recent_revol_delinq\n",
      "93 num_accts_ever_120_pd\n",
      "94 num_actv_bc_tl\n",
      "95 num_actv_rev_tl\n",
      "96 num_bc_sats\n",
      "97 num_bc_tl\n",
      "98 num_il_tl\n",
      "99 num_op_rev_tl\n",
      "100 num_rev_accts\n",
      "101 num_rev_tl_bal_gt_0\n",
      "102 num_sats\n",
      "103 num_tl_120dpd_2m\n",
      "104 num_tl_30dpd\n",
      "105 num_tl_90g_dpd_24m\n",
      "106 num_tl_op_past_12m\n",
      "107 pct_tl_nvr_dlq\n",
      "108 percent_bc_gt_75\n",
      "109 pub_rec_bankruptcies\n",
      "110 tax_liens\n",
      "111 tot_hi_cred_lim\n",
      "112 total_bal_ex_mort\n",
      "113 total_bc_limit\n",
      "114 total_il_high_credit_limit\n",
      "115 revol_bal_joint\n",
      "116 sec_app_fico_range_low\n",
      "117 sec_app_fico_range_high\n",
      "118 sec_app_earliest_cr_line\n",
      "119 sec_app_inq_last_6mths\n",
      "120 sec_app_mort_acc\n",
      "121 sec_app_open_acc\n",
      "122 sec_app_revol_util\n",
      "123 sec_app_open_act_il\n",
      "124 sec_app_num_rev_accts\n",
      "125 sec_app_chargeoff_within_12_mths\n",
      "126 sec_app_collections_12_mths_ex_med\n",
      "127 sec_app_mths_since_last_major_derog\n",
      "128 hardship_flag\n",
      "129 hardship_type\n",
      "130 hardship_reason\n",
      "131 hardship_status\n",
      "132 deferral_term\n",
      "133 hardship_amount\n",
      "134 hardship_start_date\n",
      "135 hardship_end_date\n",
      "136 payment_plan_start_date\n",
      "137 hardship_length\n",
      "138 hardship_dpd\n",
      "139 hardship_loan_status\n",
      "140 orig_projected_additional_accrued_interest\n",
      "141 hardship_payoff_balance_amount\n",
      "142 hardship_last_payment_amount\n",
      "143 disbursement_method\n",
      "144 debt_settlement_flag\n",
      "145 debt_settlement_flag_date\n",
      "146 settlement_status\n",
      "147 settlement_date\n",
      "148 settlement_amount\n",
      "149 settlement_percentage\n",
      "150 settlement_term\n",
      "151 loan_completion\n",
      "152 year\n"
     ]
    }
   ],
   "source": [
    "for e, column in enumerate(accepted.columns):\n",
    "    print (e, column)"
   ]
  },
  {
   "cell_type": "code",
   "execution_count": 21,
   "id": "231b4790",
   "metadata": {},
   "outputs": [],
   "source": [
    "df = accepted.iloc[:,[0,2,5,6,8,9,\n",
    "                  \n",
    "                  11,12,13,14,16,20,22,23,24,26,27,28,32,33,37,56,57,58,59,109]]"
   ]
  },
  {
   "cell_type": "markdown",
   "id": "eeda32c9",
   "metadata": {},
   "source": [
    "Furthermore, we only want to look at loans that are \"Fully Paid\" or \"Charged Off/Defaulted\""
   ]
  },
  {
   "cell_type": "code",
   "execution_count": 22,
   "id": "6dee7289",
   "metadata": {},
   "outputs": [],
   "source": [
    "df = df[df['loan_status'].isin(['Fully Paid', 'Charged Off', 'Default'])]"
   ]
  },
  {
   "cell_type": "code",
   "execution_count": 23,
   "id": "cb7381dd",
   "metadata": {},
   "outputs": [
    {
     "data": {
      "text/plain": [
       "Fully Paid     1076751\n",
       "Charged Off     268559\n",
       "Default             40\n",
       "Name: loan_status, dtype: int64"
      ]
     },
     "execution_count": 23,
     "metadata": {},
     "output_type": "execute_result"
    }
   ],
   "source": [
    "df['loan_status'].value_counts()"
   ]
  },
  {
   "cell_type": "code",
   "execution_count": 24,
   "id": "6d43bb31",
   "metadata": {},
   "outputs": [],
   "source": [
    "df['loan_status'] = df['loan_status'].apply(lambda x: 0 if x=='Fully Paid' else 1)"
   ]
  },
  {
   "cell_type": "markdown",
   "id": "7468c661",
   "metadata": {},
   "source": [
    "## 3.3) Missing Values"
   ]
  },
  {
   "cell_type": "code",
   "execution_count": 25,
   "id": "7db730a2",
   "metadata": {},
   "outputs": [
    {
     "data": {
      "text/plain": [
       "verification_status_joint    1319749\n",
       "dti_joint                    1319547\n",
       "annual_inc_joint             1319544\n",
       "emp_length                     78516\n",
       "pub_rec_bankruptcies             697\n",
       "dti                              374\n",
       "zip_code                           1\n",
       "application_type                   0\n",
       "initial_list_status                0\n",
       "pub_rec                            0\n",
       "open_acc                           0\n",
       "fico_range_high                    0\n",
       "fico_range_low                     0\n",
       "earliest_cr_line                   0\n",
       "id                                 0\n",
       "loan_amnt                          0\n",
       "purpose                            0\n",
       "loan_status                        0\n",
       "verification_status                0\n",
       "annual_inc                         0\n",
       "home_ownership                     0\n",
       "sub_grade                          0\n",
       "grade                              0\n",
       "int_rate                           0\n",
       "term                               0\n",
       "addr_state                         0\n",
       "dtype: int64"
      ]
     },
     "execution_count": 25,
     "metadata": {},
     "output_type": "execute_result"
    }
   ],
   "source": [
    "df.isnull().sum().sort_values(ascending = False)"
   ]
  },
  {
   "cell_type": "markdown",
   "id": "5d2fc6bd",
   "metadata": {},
   "source": [
    "Lots of missing data invovle \"joint\" status. This could just be because not all loan applicants do so with another person."
   ]
  },
  {
   "cell_type": "markdown",
   "id": "3bd0b425",
   "metadata": {},
   "source": [
    "## 4) Create and Train Model to Predict Loan Defaults\n",
    "\n",
    "\n",
    "Now after taking a look at the missing data, I have moved on immediately to creating a model. Why? Certain models, specifically the ones I'm looking at, can handle missing data quite well. In this case, I decided to look at XGBoost vs. [CatBoost](https://catboost.ai/en/docs/). These are two of the most optimized boosting techniques for Gradient-Boosted Tree algorithms. Alongside the fact that there is pre-assumption of logistic regression, we don't need to worry about how our predictor variables interact with each other nor the target variable. \n",
    "\n",
    "I decided to go with CatBoost since it is designed for categorical data and is known to have the best performance on it -- better than XGBoost. Even though some of CatBoost's internal identification of categorical data slows its training time significantly in comparison to XGBoost, it is still reported much faster than XGBoost. Furthermore, there is not much pre-processing (CatBoost supports working with non-numeric factors, of which XGBoost does not).\n",
    "\n",
    "The presence of the missing values is interpreted as errors, and the missing values will be allocated to the side that reduces the loss in each split.\n"
   ]
  },
  {
   "cell_type": "code",
   "execution_count": 26,
   "id": "b74a64f5",
   "metadata": {},
   "outputs": [
    {
     "data": {
      "text/plain": [
       "(134535, 26)"
      ]
     },
     "execution_count": 26,
     "metadata": {},
     "output_type": "execute_result"
    }
   ],
   "source": [
    "# Split dataset into sample to reduce training time. Pay attention to overfitting.\n",
    "\n",
    "sample = df.sample(frac = 0.1, random_state = 0)\n",
    "sample.shape\n"
   ]
  },
  {
   "cell_type": "code",
   "execution_count": 27,
   "id": "06475a8c",
   "metadata": {},
   "outputs": [],
   "source": [
    "X = sample.drop('loan_status', axis = 1)\n",
    "y = sample['loan_status']"
   ]
  },
  {
   "cell_type": "code",
   "execution_count": 28,
   "id": "7aefa45f",
   "metadata": {},
   "outputs": [],
   "source": [
    "# Convert non-numeric objects into strings\n",
    "\n",
    "for column in X.columns:\n",
    "    if (X[column].dtypes != float):\n",
    "        X[column] = X[column].astype(str)"
   ]
  },
  {
   "cell_type": "code",
   "execution_count": 29,
   "id": "9ae51ad2",
   "metadata": {},
   "outputs": [
    {
     "data": {
      "text/plain": [
       "array([ 0,  2,  4,  5,  6,  7,  9, 10, 11, 12, 14, 19, 20, 23])"
      ]
     },
     "execution_count": 29,
     "metadata": {},
     "output_type": "execute_result"
    }
   ],
   "source": [
    "# For categorical features, they need to be specified using an index (no need for label encoding)\n",
    "\n",
    "feat_index = np.where(X.dtypes != float)[0]\n",
    "feat_index"
   ]
  },
  {
   "cell_type": "code",
   "execution_count": 30,
   "id": "17c76922",
   "metadata": {},
   "outputs": [],
   "source": [
    "# Split the data into Train and Test\n",
    "\n",
    "X_train, X_test, y_train, y_test = train_test_split(X, y, train_size=0.70, random_state=0)\n"
   ]
  },
  {
   "cell_type": "code",
   "execution_count": 33,
   "id": "2e9c417a",
   "metadata": {},
   "outputs": [],
   "source": [
    "from sklearn import ensemble\n",
    "\n",
    "\n",
    "def get_CatBoost_model(X, Y, cat_feat_index):\n",
    "        \n",
    "    CB_model = CatBoostClassifier(eval_metric = 'AUC:hints=skip_train~false',\n",
    "                                iterations = 10000,\n",
    "                                learning_rate = 0.05,\n",
    "                                logging_level = 'Silent',\n",
    "                                early_stopping_rounds = 50,\n",
    "                                auto_class_weights = 'Balanced',\n",
    "                                text_features = cat_feat_index\n",
    "                                \n",
    "    )\n",
    "    \n",
    "    # A high number of iterations with a low learning_rate should help with overfitting\n",
    "    \n",
    "    \n",
    "    grid_para = {\n",
    "        'depth': np.linspace(start = 5, stop = 10, num = 6, dtype = int),\n",
    "        'l2_leaf_reg': np.linspace(start = 1, stop = 10, num = 10, dtype = int)\n",
    "            }\n",
    "\n",
    "\n",
    "    pool = Pool(X,Y, cat_features = cat_feat_index)\n",
    "    \n",
    "    result = CB_model.grid_search(grid_para,\n",
    "                                 X = pool,\n",
    "                                 cv = 2,\n",
    "                                 stratified = True,\n",
    "                                 verbose = False,\n",
    "                                 plot = True)\n",
    "    \n",
    "    print('CBM object created.')\n",
    "    print(gs.best_estimator_)\n",
    "    \n",
    "    return result\n"
   ]
  },
  {
   "cell_type": "code",
   "execution_count": 34,
   "id": "73040cf7",
   "metadata": {},
   "outputs": [
    {
     "ename": "CatBoostError",
     "evalue": "text features indices in the model are set to [0, 2, 4, 5, 6, 7, 9, 10, 11, 12, 14, 19, 20, 23] and train dataset text features indices are set to []",
     "output_type": "error",
     "traceback": [
      "\u001b[0;31m---------------------------------------------------------------------------\u001b[0m",
      "\u001b[0;31mCatBoostError\u001b[0m                             Traceback (most recent call last)",
      "\u001b[0;32m/var/folders/sj/x46s482s0zs_2rd0g1_25m5r0000gn/T/ipykernel_46483/2817826971.py\u001b[0m in \u001b[0;36m<module>\u001b[0;34m\u001b[0m\n\u001b[0;32m----> 1\u001b[0;31m \u001b[0mcb_model\u001b[0m \u001b[0;34m=\u001b[0m \u001b[0mget_CatBoost_model\u001b[0m\u001b[0;34m(\u001b[0m\u001b[0mX_train\u001b[0m\u001b[0;34m,\u001b[0m \u001b[0my_train\u001b[0m\u001b[0;34m,\u001b[0m \u001b[0mfeat_index\u001b[0m\u001b[0;34m)\u001b[0m\u001b[0;34m\u001b[0m\u001b[0;34m\u001b[0m\u001b[0m\n\u001b[0m",
      "\u001b[0;32m/var/folders/sj/x46s482s0zs_2rd0g1_25m5r0000gn/T/ipykernel_46483/3823092304.py\u001b[0m in \u001b[0;36mget_CatBoost_model\u001b[0;34m(X, Y, cat_feat_index)\u001b[0m\n\u001b[1;32m     25\u001b[0m     \u001b[0mpool\u001b[0m \u001b[0;34m=\u001b[0m \u001b[0mPool\u001b[0m\u001b[0;34m(\u001b[0m\u001b[0mX\u001b[0m\u001b[0;34m,\u001b[0m\u001b[0mY\u001b[0m\u001b[0;34m,\u001b[0m \u001b[0mcat_features\u001b[0m \u001b[0;34m=\u001b[0m \u001b[0mcat_feat_index\u001b[0m\u001b[0;34m)\u001b[0m\u001b[0;34m\u001b[0m\u001b[0;34m\u001b[0m\u001b[0m\n\u001b[1;32m     26\u001b[0m \u001b[0;34m\u001b[0m\u001b[0m\n\u001b[0;32m---> 27\u001b[0;31m     result = CB_model.grid_search(grid_para,\n\u001b[0m\u001b[1;32m     28\u001b[0m                                  \u001b[0mX\u001b[0m \u001b[0;34m=\u001b[0m \u001b[0mpool\u001b[0m\u001b[0;34m,\u001b[0m\u001b[0;34m\u001b[0m\u001b[0;34m\u001b[0m\u001b[0m\n\u001b[1;32m     29\u001b[0m                                  \u001b[0mcv\u001b[0m \u001b[0;34m=\u001b[0m \u001b[0;36m2\u001b[0m\u001b[0;34m,\u001b[0m\u001b[0;34m\u001b[0m\u001b[0;34m\u001b[0m\u001b[0m\n",
      "\u001b[0;32m~/opt/anaconda3/lib/python3.9/site-packages/catboost/core.py\u001b[0m in \u001b[0;36mgrid_search\u001b[0;34m(self, param_grid, X, y, cv, partition_random_seed, calc_cv_statistics, search_by_train_test_split, refit, shuffle, stratified, train_size, verbose, plot, log_cout, log_cerr)\u001b[0m\n\u001b[1;32m   4012\u001b[0m                     \u001b[0;32mraise\u001b[0m \u001b[0mTypeError\u001b[0m\u001b[0;34m(\u001b[0m\u001b[0;34m'Parameter grid value is not iterable (key={!r}, value={!r})'\u001b[0m\u001b[0;34m.\u001b[0m\u001b[0mformat\u001b[0m\u001b[0;34m(\u001b[0m\u001b[0mkey\u001b[0m\u001b[0;34m,\u001b[0m \u001b[0mgrid\u001b[0m\u001b[0;34m[\u001b[0m\u001b[0mkey\u001b[0m\u001b[0;34m]\u001b[0m\u001b[0;34m)\u001b[0m\u001b[0;34m)\u001b[0m\u001b[0;34m\u001b[0m\u001b[0;34m\u001b[0m\u001b[0m\n\u001b[1;32m   4013\u001b[0m \u001b[0;34m\u001b[0m\u001b[0m\n\u001b[0;32m-> 4014\u001b[0;31m         return self._tune_hyperparams(\n\u001b[0m\u001b[1;32m   4015\u001b[0m             \u001b[0mparam_grid\u001b[0m\u001b[0;34m=\u001b[0m\u001b[0mparam_grid\u001b[0m\u001b[0;34m,\u001b[0m \u001b[0mX\u001b[0m\u001b[0;34m=\u001b[0m\u001b[0mX\u001b[0m\u001b[0;34m,\u001b[0m \u001b[0my\u001b[0m\u001b[0;34m=\u001b[0m\u001b[0my\u001b[0m\u001b[0;34m,\u001b[0m \u001b[0mcv\u001b[0m\u001b[0;34m=\u001b[0m\u001b[0mcv\u001b[0m\u001b[0;34m,\u001b[0m \u001b[0mn_iter\u001b[0m\u001b[0;34m=\u001b[0m\u001b[0;34m-\u001b[0m\u001b[0;36m1\u001b[0m\u001b[0;34m,\u001b[0m\u001b[0;34m\u001b[0m\u001b[0;34m\u001b[0m\u001b[0m\n\u001b[1;32m   4016\u001b[0m             \u001b[0mpartition_random_seed\u001b[0m\u001b[0;34m=\u001b[0m\u001b[0mpartition_random_seed\u001b[0m\u001b[0;34m,\u001b[0m \u001b[0mcalc_cv_statistics\u001b[0m\u001b[0;34m=\u001b[0m\u001b[0mcalc_cv_statistics\u001b[0m\u001b[0;34m,\u001b[0m\u001b[0;34m\u001b[0m\u001b[0;34m\u001b[0m\u001b[0m\n",
      "\u001b[0;32m~/opt/anaconda3/lib/python3.9/site-packages/catboost/core.py\u001b[0m in \u001b[0;36m_tune_hyperparams\u001b[0;34m(self, param_grid, X, y, cv, n_iter, partition_random_seed, calc_cv_statistics, search_by_train_test_split, refit, shuffle, stratified, train_size, verbose, plot, log_cout, log_cerr)\u001b[0m\n\u001b[1;32m   3883\u001b[0m             \u001b[0;32mraise\u001b[0m \u001b[0mTypeError\u001b[0m\u001b[0;34m(\u001b[0m\u001b[0;34m'Parameter grid is not a dict or a list ({!r})'\u001b[0m\u001b[0;34m.\u001b[0m\u001b[0mformat\u001b[0m\u001b[0;34m(\u001b[0m\u001b[0mparam_grid\u001b[0m\u001b[0;34m)\u001b[0m\u001b[0;34m)\u001b[0m\u001b[0;34m\u001b[0m\u001b[0;34m\u001b[0m\u001b[0m\n\u001b[1;32m   3884\u001b[0m \u001b[0;34m\u001b[0m\u001b[0m\n\u001b[0;32m-> 3885\u001b[0;31m         \u001b[0mtrain_params\u001b[0m \u001b[0;34m=\u001b[0m \u001b[0mself\u001b[0m\u001b[0;34m.\u001b[0m\u001b[0m_prepare_train_params\u001b[0m\u001b[0;34m(\u001b[0m\u001b[0mX\u001b[0m\u001b[0;34m=\u001b[0m\u001b[0mX\u001b[0m\u001b[0;34m,\u001b[0m \u001b[0my\u001b[0m\u001b[0;34m=\u001b[0m\u001b[0my\u001b[0m\u001b[0;34m)\u001b[0m\u001b[0;34m\u001b[0m\u001b[0;34m\u001b[0m\u001b[0m\n\u001b[0m\u001b[1;32m   3886\u001b[0m         \u001b[0mparams\u001b[0m \u001b[0;34m=\u001b[0m \u001b[0mtrain_params\u001b[0m\u001b[0;34m[\u001b[0m\u001b[0;34m\"params\"\u001b[0m\u001b[0;34m]\u001b[0m\u001b[0;34m\u001b[0m\u001b[0;34m\u001b[0m\u001b[0m\n\u001b[1;32m   3887\u001b[0m \u001b[0;34m\u001b[0m\u001b[0m\n",
      "\u001b[0;32m~/opt/anaconda3/lib/python3.9/site-packages/catboost/core.py\u001b[0m in \u001b[0;36m_prepare_train_params\u001b[0;34m(self, X, y, cat_features, text_features, embedding_features, pairs, sample_weight, group_id, group_weight, subgroup_id, pairs_weight, baseline, use_best_model, eval_set, verbose, logging_level, plot, column_description, verbose_eval, metric_period, silent, early_stopping_rounds, save_snapshot, snapshot_file, snapshot_interval, init_model, callbacks)\u001b[0m\n\u001b[1;32m   2143\u001b[0m \u001b[0;34m\u001b[0m\u001b[0m\n\u001b[1;32m   2144\u001b[0m         \u001b[0mcat_features\u001b[0m \u001b[0;34m=\u001b[0m \u001b[0m_process_feature_indices\u001b[0m\u001b[0;34m(\u001b[0m\u001b[0mcat_features\u001b[0m\u001b[0;34m,\u001b[0m \u001b[0mX\u001b[0m\u001b[0;34m,\u001b[0m \u001b[0mparams\u001b[0m\u001b[0;34m,\u001b[0m \u001b[0;34m'cat_features'\u001b[0m\u001b[0;34m)\u001b[0m\u001b[0;34m\u001b[0m\u001b[0;34m\u001b[0m\u001b[0m\n\u001b[0;32m-> 2145\u001b[0;31m         \u001b[0mtext_features\u001b[0m \u001b[0;34m=\u001b[0m \u001b[0m_process_feature_indices\u001b[0m\u001b[0;34m(\u001b[0m\u001b[0mtext_features\u001b[0m\u001b[0;34m,\u001b[0m \u001b[0mX\u001b[0m\u001b[0;34m,\u001b[0m \u001b[0mparams\u001b[0m\u001b[0;34m,\u001b[0m \u001b[0;34m'text_features'\u001b[0m\u001b[0;34m)\u001b[0m\u001b[0;34m\u001b[0m\u001b[0;34m\u001b[0m\u001b[0m\n\u001b[0m\u001b[1;32m   2146\u001b[0m         \u001b[0membedding_features\u001b[0m \u001b[0;34m=\u001b[0m \u001b[0m_process_feature_indices\u001b[0m\u001b[0;34m(\u001b[0m\u001b[0membedding_features\u001b[0m\u001b[0;34m,\u001b[0m \u001b[0mX\u001b[0m\u001b[0;34m,\u001b[0m \u001b[0mparams\u001b[0m\u001b[0;34m,\u001b[0m \u001b[0;34m'embedding_features'\u001b[0m\u001b[0;34m)\u001b[0m\u001b[0;34m\u001b[0m\u001b[0;34m\u001b[0m\u001b[0m\n\u001b[1;32m   2147\u001b[0m \u001b[0;34m\u001b[0m\u001b[0m\n",
      "\u001b[0;32m~/opt/anaconda3/lib/python3.9/site-packages/catboost/core.py\u001b[0m in \u001b[0;36m_process_feature_indices\u001b[0;34m(feature_indices, pool, params, param_name)\u001b[0m\n\u001b[1;32m   2091\u001b[0m \u001b[0;34m\u001b[0m\u001b[0m\n\u001b[1;32m   2092\u001b[0m         \u001b[0;32mif\u001b[0m \u001b[0mset\u001b[0m\u001b[0;34m(\u001b[0m\u001b[0mfeature_indices_from_pool\u001b[0m\u001b[0;34m)\u001b[0m \u001b[0;34m!=\u001b[0m \u001b[0mset\u001b[0m\u001b[0;34m(\u001b[0m\u001b[0mfeature_indices_from_params\u001b[0m\u001b[0;34m)\u001b[0m\u001b[0;34m:\u001b[0m\u001b[0;34m\u001b[0m\u001b[0;34m\u001b[0m\u001b[0m\n\u001b[0;32m-> 2093\u001b[0;31m             raise CatBoostError(feature_type_name + \" features indices in the model are set to \"\n\u001b[0m\u001b[1;32m   2094\u001b[0m                                 \u001b[0;34m+\u001b[0m \u001b[0mstr\u001b[0m\u001b[0;34m(\u001b[0m\u001b[0mfeature_indices_from_params\u001b[0m\u001b[0;34m)\u001b[0m \u001b[0;34m+\u001b[0m\u001b[0;34m\u001b[0m\u001b[0;34m\u001b[0m\u001b[0m\n\u001b[1;32m   2095\u001b[0m                                 \u001b[0;34m\" and train dataset \"\u001b[0m \u001b[0;34m+\u001b[0m \u001b[0mfeature_type_name\u001b[0m \u001b[0;34m+\u001b[0m \u001b[0;34m\" features indices are set to \"\u001b[0m \u001b[0;34m+\u001b[0m\u001b[0;34m\u001b[0m\u001b[0;34m\u001b[0m\u001b[0m\n",
      "\u001b[0;31mCatBoostError\u001b[0m: text features indices in the model are set to [0, 2, 4, 5, 6, 7, 9, 10, 11, 12, 14, 19, 20, 23] and train dataset text features indices are set to []"
     ]
    }
   ],
   "source": [
    "cb_model = get_CatBoost_model(X_train, y_train, feat_index)"
   ]
  },
  {
   "cell_type": "markdown",
   "id": "a1beabaf",
   "metadata": {},
   "source": []
  },
  {
   "cell_type": "markdown",
   "id": "ae7de21d",
   "metadata": {},
   "source": []
  },
  {
   "cell_type": "markdown",
   "id": "8eeda27b",
   "metadata": {},
   "source": []
  },
  {
   "cell_type": "markdown",
   "id": "512ddf13",
   "metadata": {},
   "source": []
  }
 ],
 "metadata": {
  "kernelspec": {
   "display_name": "Python 3 (ipykernel)",
   "language": "python",
   "name": "python3"
  },
  "language_info": {
   "codemirror_mode": {
    "name": "ipython",
    "version": 3
   },
   "file_extension": ".py",
   "mimetype": "text/x-python",
   "name": "python",
   "nbconvert_exporter": "python",
   "pygments_lexer": "ipython3",
   "version": "3.9.7"
  }
 },
 "nbformat": 4,
 "nbformat_minor": 5
}
